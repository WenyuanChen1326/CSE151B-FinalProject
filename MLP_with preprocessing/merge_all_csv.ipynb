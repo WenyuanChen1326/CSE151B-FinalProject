{
 "cells": [
  {
   "cell_type": "code",
   "execution_count": 1,
   "id": "9e16a85c",
   "metadata": {},
   "outputs": [],
   "source": [
    "import pandas as pd\n",
    "import os\n",
    "import numpy as np"
   ]
  },
  {
   "cell_type": "code",
   "execution_count": 2,
   "id": "da5005aa",
   "metadata": {},
   "outputs": [],
   "source": [
    "filenames = os.listdir(\"model5_submission_with_preprocess\")"
   ]
  },
  {
   "cell_type": "code",
   "execution_count": 3,
   "id": "0007e348",
   "metadata": {},
   "outputs": [
    {
     "data": {
      "text/plain": [
       "['model5_miami.csv',\n",
       " 'model5_dearborn.csv',\n",
       " 'model5_austin.csv',\n",
       " 'model5_pittsburgh.csv',\n",
       " 'model5_washington-dc.csv',\n",
       " 'model5_palo_df4.csv']"
      ]
     },
     "execution_count": 3,
     "metadata": {},
     "output_type": "execute_result"
    }
   ],
   "source": [
    "filenames"
   ]
  },
  {
   "cell_type": "code",
   "execution_count": 4,
   "id": "2faef625",
   "metadata": {},
   "outputs": [],
   "source": [
    "cities = [\"austin\", \"miami\", \"pittsburgh\", \"dearborn\", \"washington-dc\", \"palo-alto\"]"
   ]
  },
  {
   "cell_type": "code",
   "execution_count": 5,
   "id": "5094feee",
   "metadata": {},
   "outputs": [
    {
     "data": {
      "text/plain": [
       "['model5_austin.csv']"
      ]
     },
     "execution_count": 5,
     "metadata": {},
     "output_type": "execute_result"
    }
   ],
   "source": [
    "[f for f in filenames if \"austin\" in f]"
   ]
  },
  {
   "cell_type": "code",
   "execution_count": 11,
   "id": "a2eb15a7",
   "metadata": {},
   "outputs": [],
   "source": [
    "def merge(filenames):\n",
    "    path = \"model5_submission_with_preprocess/\"\n",
    "    austin = pd.read_csv(path + [f for f in filenames if \"austin\" in f][0])\n",
    "    miami = pd.read_csv(path + [f for f in filenames if \"miami\" in f][0])\n",
    "    pitt = pd.read_csv(path + [f for f in filenames if \"pitt\" in f][0])\n",
    "    dear = pd.read_csv(path + [f for f in filenames if \"dear\" in f][0])\n",
    "    wash = pd.read_csv(path + [f for f in filenames if \"wash\" in f][0])\n",
    "    palo = pd.read_csv(path + [f for f in filenames if \"palo\" in f][0])\n",
    "    \n",
    "    final = pd.concat([austin, miami, pitt, dear, wash, palo], axis=0)\n",
    "    \n",
    "    return final"
   ]
  },
  {
   "cell_type": "code",
   "execution_count": 12,
   "id": "b18fe1a4",
   "metadata": {
    "scrolled": true
   },
   "outputs": [],
   "source": [
    "final = merge(filenames)"
   ]
  },
  {
   "cell_type": "code",
   "execution_count": 14,
   "id": "22475f44",
   "metadata": {
    "scrolled": true
   },
   "outputs": [],
   "source": [
    "final.to_csv(\"model5_submission_with_preprocess.csv\", index=False)"
   ]
  },
  {
   "cell_type": "code",
   "execution_count": null,
   "id": "45d5bad4",
   "metadata": {},
   "outputs": [],
   "source": []
  },
  {
   "cell_type": "code",
   "execution_count": null,
   "id": "28baaf85",
   "metadata": {},
   "outputs": [],
   "source": []
  },
  {
   "cell_type": "code",
   "execution_count": null,
   "id": "6bef038e",
   "metadata": {},
   "outputs": [],
   "source": []
  },
  {
   "cell_type": "code",
   "execution_count": null,
   "id": "99cd95f2",
   "metadata": {},
   "outputs": [],
   "source": []
  },
  {
   "cell_type": "code",
   "execution_count": null,
   "id": "68fb539a",
   "metadata": {},
   "outputs": [],
   "source": []
  }
 ],
 "metadata": {
  "kernelspec": {
   "display_name": "Python 3 (ipykernel)",
   "language": "python",
   "name": "python3"
  },
  "language_info": {
   "codemirror_mode": {
    "name": "ipython",
    "version": 3
   },
   "file_extension": ".py",
   "mimetype": "text/x-python",
   "name": "python",
   "nbconvert_exporter": "python",
   "pygments_lexer": "ipython3",
   "version": "3.9.7"
  }
 },
 "nbformat": 4,
 "nbformat_minor": 5
}
