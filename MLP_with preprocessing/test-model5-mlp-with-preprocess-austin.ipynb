{
 "cells": [
  {
   "cell_type": "code",
   "execution_count": 1,
   "metadata": {
    "_cell_guid": "b1076dfc-b9ad-4769-8c92-a6c4dae69d19",
    "_uuid": "8f2839f25d086af736a60e9eeb907d3b93b6e0e5",
    "execution": {
     "iopub.execute_input": "2022-05-23T20:21:00.572162Z",
     "iopub.status.busy": "2022-05-23T20:21:00.571831Z",
     "iopub.status.idle": "2022-05-23T20:21:00.586378Z",
     "shell.execute_reply": "2022-05-23T20:21:00.585356Z",
     "shell.execute_reply.started": "2022-05-23T20:21:00.572126Z"
    }
   },
   "outputs": [],
   "source": [
    "# This Python 3 environment comes with many helpful analytics libraries installed\n",
    "# It is defined by the kaggle/python Docker image: https://github.com/kaggle/docker-python\n",
    "# For example, here's several helpful packages to load\n",
    "\n",
    "import numpy as np # linear algebra\n",
    "import pandas as pd # data processing, CSV file I/O (e.g. pd.read_csv)\n",
    "\n",
    "# Input data files are available in the read-only \"../input/\" directory\n",
    "# For example, running this (by clicking run or pressing Shift+Enter) will list all files under the input directory\n",
    "\n",
    "import os\n",
    "for dirname, _, filenames in os.walk('/kaggle/input'):\n",
    "    for filename in filenames:\n",
    "        print(os.path.join(dirname, filename))\n",
    "\n",
    "# You can write up to 20GB to the current directory (/kaggle/working/) that gets preserved as output when you create a version using \"Save & Run All\" \n",
    "# You can also write temporary files to /kaggle/temp/, but they won't be saved outside of the current session"
   ]
  },
  {
   "cell_type": "code",
   "execution_count": 4,
   "metadata": {
    "execution": {
     "iopub.execute_input": "2022-05-23T20:21:02.409238Z",
     "iopub.status.busy": "2022-05-23T20:21:02.408570Z",
     "iopub.status.idle": "2022-05-23T20:21:15.471459Z",
     "shell.execute_reply": "2022-05-23T20:21:15.470590Z",
     "shell.execute_reply.started": "2022-05-23T20:21:02.409194Z"
    }
   },
   "outputs": [],
   "source": [
    "# pip install pickle5"
   ]
  },
  {
   "cell_type": "code",
   "execution_count": 2,
   "metadata": {
    "execution": {
     "iopub.execute_input": "2022-05-23T21:10:01.686861Z",
     "iopub.status.busy": "2022-05-23T21:10:01.686555Z",
     "iopub.status.idle": "2022-05-23T21:10:01.693600Z",
     "shell.execute_reply": "2022-05-23T21:10:01.692613Z",
     "shell.execute_reply.started": "2022-05-23T21:10:01.686830Z"
    }
   },
   "outputs": [],
   "source": [
    "import torch\n",
    "from torch.utils.data import Dataset, DataLoader\n",
    "import os, os.path \n",
    "import numpy \n",
    "import pickle\n",
    "from glob import glob\n",
    "import numpy as np\n",
    "import pandas as pd\n",
    "import seaborn as sns\n",
    "import matplotlib.pyplot as plt"
   ]
  },
  {
   "cell_type": "code",
   "execution_count": 3,
   "metadata": {
    "execution": {
     "iopub.execute_input": "2022-05-23T21:10:05.837498Z",
     "iopub.status.busy": "2022-05-23T21:10:05.835915Z",
     "iopub.status.idle": "2022-05-23T21:10:05.875341Z",
     "shell.execute_reply": "2022-05-23T21:10:05.874628Z",
     "shell.execute_reply.started": "2022-05-23T21:10:05.837440Z"
    }
   },
   "outputs": [],
   "source": [
    "from glob import glob\n",
    "import pickle5 as pickle\n",
    "import numpy as np\n",
    "\n",
    "ROOT_PATH = \"\"\n",
    "\n",
    "cities = [\"austin\", \"miami\", \"pittsburgh\", \"dearborn\", \"washington-dc\", \"palo-alto\"]\n",
    "splits = [\"train\", \"test\"]\n",
    "\n",
    "def get_city_trajectories(city=\"palo-alto\", split=\"train\", normalized=False, preprocess=False):\n",
    "    if split==\"train\":\n",
    "        f_in = ROOT_PATH + split + \"/\" + city + \"_inputs\"\n",
    "        inputs = pickle.load(open(f_in, \"rb\"))\n",
    "        inputs = np.asarray(inputs).astype(np.float64)\n",
    "\n",
    "        outputs = None\n",
    "    \n",
    "        f_out = ROOT_PATH + split + \"/\" + city + \"_outputs\"\n",
    "        outputs = pickle.load(open(f_out, \"rb\"))\n",
    "        outputs = np.asarray(outputs).astype(np.float64)\n",
    "        \n",
    "    elif split==\"test\":\n",
    "        f_in = ROOT_PATH + split + \"/\" + city + \"_inputs\"\n",
    "        inputs = pickle.load(open(f_in, \"rb\"))\n",
    "        inputs = np.asarray(inputs).astype(np.float64)\n",
    "\n",
    "        outputs = None\n",
    "    \n",
    "    if normalized:\n",
    "        train_combined = np.concatenate([inputs, outputs], axis=1)\n",
    "        x_mean = np.mean(train_combined[:, :, 0].reshape(-1))\n",
    "        x_std = np.std(train_combined[:, :, 0].reshape(-1))\n",
    "        x_norm = ((train_combined[:, :, 0].reshape(-1) - x_mean) / x_std).reshape(train_combined.shape[0], train_combined.shape[1], 1)\n",
    "\n",
    "        y_mean = np.mean(train_combined[:, :, 1].reshape(-1))\n",
    "        y_std = np.std(train_combined[:, :, 1].reshape(-1))\n",
    "        y_norm = ((train_combined[:, :, 1].reshape(-1) - y_mean) / y_std).reshape(train_combined.shape[0], train_combined.shape[1], 1)\n",
    "\n",
    "        normalized = np.concatenate([x_norm, y_norm], axis=2)\n",
    "        \n",
    "        return normalized[:, :50, :], normalized[:, 50:, :]\n",
    "\n",
    "    if preprocess:\n",
    "        preprocessed_inp = []\n",
    "        preprocessed_out = []\n",
    "        for i in range(inputs.shape[0]):\n",
    "            temp_i, temp_o = preprocess_single(inputs[i], outputs[i])\n",
    "            preprocessed_inp.append(temp_i)\n",
    "            preprocessed_out.append(temp_o)\n",
    "\n",
    "        preprocessed_inp = np.array(preprocessed_inp)\n",
    "        preprocessed_out = np.array(preprocessed_out)\n",
    "        \n",
    "        return preprocessed_inp, preprocessed_out\n",
    "    \n",
    "    return inputs, outputs\n",
    "\n",
    "class ArgoverseDataset(Dataset):\n",
    "    \"\"\"Dataset class for Argoverse\"\"\"\n",
    "    def __init__(self, city: str, split:str, transform=None, normalize=False, preprocess=False):\n",
    "        super(ArgoverseDataset, self).__init__()\n",
    "        self.transform = transform\n",
    "\n",
    "        self.inputs, self.outputs = get_city_trajectories(city=city, split=split, normalized=normalize, preprocess=preprocess)\n",
    "\n",
    "    def __len__(self):\n",
    "        return len(self.inputs)\n",
    "\n",
    "    def __getitem__(self, idx):\n",
    "\n",
    "        data = (self.inputs[idx], self.outputs[idx])\n",
    "            \n",
    "        if self.transform:\n",
    "            data = self.transform(data)\n",
    "\n",
    "        return data\n",
    "\n",
    "# intialize a dataset\n",
    "city = 'palo-alto' \n",
    "split = 'train'\n",
    "train_dataset  = ArgoverseDataset(city = city, split = split)"
   ]
  },
  {
   "cell_type": "code",
   "execution_count": 4,
   "metadata": {
    "execution": {
     "iopub.execute_input": "2022-05-23T21:10:07.519733Z",
     "iopub.status.busy": "2022-05-23T21:10:07.519297Z",
     "iopub.status.idle": "2022-05-23T21:10:07.526782Z",
     "shell.execute_reply": "2022-05-23T21:10:07.525871Z",
     "shell.execute_reply.started": "2022-05-23T21:10:07.519702Z"
    }
   },
   "outputs": [],
   "source": [
    "# here inp and out are single-target\n",
    "def preprocess_single(inp, out):\n",
    "    x_i = inp[0][0]\n",
    "    y_i = inp[0][1]\n",
    "    \n",
    "    prep_inp = np.concatenate([(inp[:, 0] - x_i).reshape(50, 1), (inp[:, 1] - y_i).reshape(50, 1)], axis=1)\n",
    "    \n",
    "    if out is None:\n",
    "        return prep_inp, None\n",
    "\n",
    "    prep_out = np.concatenate([(out[:, 0] - x_i).reshape(60, 1), (out[:, 1] - y_i).reshape(60, 1)], axis=1)\n",
    "    \n",
    "    return prep_inp, prep_out"
   ]
  },
  {
   "cell_type": "code",
   "execution_count": 5,
   "metadata": {
    "execution": {
     "iopub.execute_input": "2022-05-23T21:10:08.724975Z",
     "iopub.status.busy": "2022-05-23T21:10:08.724304Z",
     "iopub.status.idle": "2022-05-23T21:10:08.728093Z",
     "shell.execute_reply": "2022-05-23T21:10:08.727447Z",
     "shell.execute_reply.started": "2022-05-23T21:10:08.724940Z"
    }
   },
   "outputs": [],
   "source": [
    "import torch.nn as nn"
   ]
  },
  {
   "cell_type": "code",
   "execution_count": 6,
   "metadata": {
    "execution": {
     "iopub.execute_input": "2022-05-23T21:10:09.767841Z",
     "iopub.status.busy": "2022-05-23T21:10:09.767392Z",
     "iopub.status.idle": "2022-05-23T21:10:09.775586Z",
     "shell.execute_reply": "2022-05-23T21:10:09.774780Z",
     "shell.execute_reply.started": "2022-05-23T21:10:09.767807Z"
    }
   },
   "outputs": [],
   "source": [
    "class Pred(nn.Module):\n",
    "\n",
    "    def __init__(self):\n",
    "        super().__init__()\n",
    "        \n",
    "        self.encoder = nn.Sequential(\n",
    "            nn.Linear(100, 64),\n",
    "            nn.ReLU(),\n",
    "#             nn.Linear(64, 32),\n",
    "            nn.Linear(64, 16)\n",
    "#             nn.ReLU(),\n",
    "#             nn.Linear(32, 16),\n",
    "#             nn.ReLU(),\n",
    "#             nn.Linear(16, 16)\n",
    "        )\n",
    "        \n",
    "        self.decoder = nn.Sequential(\n",
    "            nn.Linear(16, 120),\n",
    "            nn.ReLU(),\n",
    "#             nn.Linear(32, 64),\n",
    "#             nn.ReLU(),\n",
    "#             nn.Linear(64, 128),\n",
    "#             nn.ReLU(),\n",
    "#             nn.Linear(128, 120),\n",
    "#             nn.ReLU(),\n",
    "            nn.Linear(120, 120)\n",
    "        )\n",
    "        \n",
    "    def forward(self, x):\n",
    "        x = x.reshape(-1, 100).float()\n",
    "        x = self.encoder(x)\n",
    "        x = self.decoder(x)\n",
    "#         print(\"------\")\n",
    "#         print(x.shape)\n",
    "        x = x.reshape(-1, 60, 2)\n",
    "        return x"
   ]
  },
  {
   "cell_type": "code",
   "execution_count": 7,
   "metadata": {
    "execution": {
     "iopub.execute_input": "2022-05-23T20:53:42.160667Z",
     "iopub.status.busy": "2022-05-23T20:53:42.160371Z",
     "iopub.status.idle": "2022-05-23T20:53:42.167455Z",
     "shell.execute_reply": "2022-05-23T20:53:42.166599Z",
     "shell.execute_reply.started": "2022-05-23T20:53:42.160637Z"
    }
   },
   "outputs": [],
   "source": [
    "pred = Pred()\n",
    "opt = torch.optim.Adam(pred.parameters(), lr=0.0001)"
   ]
  },
  {
   "cell_type": "code",
   "execution_count": 8,
   "metadata": {
    "execution": {
     "iopub.execute_input": "2022-05-23T21:10:19.367577Z",
     "iopub.status.busy": "2022-05-23T21:10:19.366878Z",
     "iopub.status.idle": "2022-05-23T21:10:19.683910Z",
     "shell.execute_reply": "2022-05-23T21:10:19.682913Z",
     "shell.execute_reply.started": "2022-05-23T21:10:19.367530Z"
    }
   },
   "outputs": [],
   "source": [
    "batch_sz = 512  # batch size \n",
    "cities = [\"austin\", \"miami\", \"pittsburgh\", \"dearborn\", \"washington-dc\", \"palo-alto\"]\n",
    "city = cities[0] \n",
    "split = 'train'\n",
    "train_dataset  = ArgoverseDataset(city = city, split = split, normalize=False, preprocess=True)\n",
    "train_loader = DataLoader(train_dataset, batch_size=batch_sz)"
   ]
  },
  {
   "cell_type": "code",
   "execution_count": null,
   "metadata": {
    "execution": {
     "iopub.execute_input": "2022-05-23T05:42:55.704414Z",
     "iopub.status.busy": "2022-05-23T05:42:55.703684Z",
     "iopub.status.idle": "2022-05-23T05:42:55.740063Z",
     "shell.execute_reply": "2022-05-23T05:42:55.739304Z",
     "shell.execute_reply.started": "2022-05-23T05:42:55.704366Z"
    }
   },
   "outputs": [],
   "source": [
    "# p_i, p_o = get_city_trajectories(city=\"palo-alto\", split=\"train\", normalized=False)\n",
    "# train_combined = np.concatenate([p_i, p_o], axis=1)\n",
    "# global_x_mean = np.mean(train_combined[:, :, 0].reshape(-1))\n",
    "# global_x_std = np.std(train_combined[:, :, 0].reshape(-1))\n",
    "# global_y_mean = np.mean(train_combined[:, :, 1].reshape(-1))\n",
    "# global_y_std = np.std(train_combined[:, :, 1].reshape(-1))"
   ]
  },
  {
   "cell_type": "code",
   "execution_count": null,
   "metadata": {
    "execution": {
     "iopub.execute_input": "2022-05-23T05:43:05.134680Z",
     "iopub.status.busy": "2022-05-23T05:43:05.134220Z",
     "iopub.status.idle": "2022-05-23T05:43:05.139283Z",
     "shell.execute_reply": "2022-05-23T05:43:05.138675Z",
     "shell.execute_reply.started": "2022-05-23T05:43:05.134640Z"
    }
   },
   "outputs": [],
   "source": [
    "# global_x_mean"
   ]
  },
  {
   "cell_type": "code",
   "execution_count": 9,
   "metadata": {
    "execution": {
     "iopub.execute_input": "2022-05-23T21:10:51.345754Z",
     "iopub.status.busy": "2022-05-23T21:10:51.345459Z",
     "iopub.status.idle": "2022-05-23T21:10:51.354316Z",
     "shell.execute_reply": "2022-05-23T21:10:51.353245Z",
     "shell.execute_reply.started": "2022-05-23T21:10:51.345726Z"
    }
   },
   "outputs": [],
   "source": [
    "def train(pred):\n",
    "    loss_lst = []\n",
    "    for epoch in range(3000):\n",
    "        total_loss = 0\n",
    "        i = 0\n",
    "        for i_batch, sample_batch in enumerate(train_loader):\n",
    "            inp, out = sample_batch\n",
    "\n",
    "#             print(inp.shape)\n",
    "#             print(inp)\n",
    "            preds = pred(inp)\n",
    "#             print(preds.shape)\n",
    "#             print(out.shape)\n",
    "            loss = ((preds - out) ** 2).sum()\n",
    "\n",
    "            opt.zero_grad()\n",
    "            loss.backward()\n",
    "            opt.step()\n",
    "            \n",
    "            i += len(inp) * 60 * 2\n",
    "            \n",
    "            total_loss += loss.item()\n",
    "            \n",
    "        loss_lst.append(total_loss / i)\n",
    "        if epoch % 100 == 0:\n",
    "            print('epoch {} loss: {}'.format(epoch, total_loss / i))\n",
    "            \n",
    "    plt.plot(loss_lst)\n",
    "    \n",
    "    return pred"
   ]
  },
  {
   "cell_type": "code",
   "execution_count": 10,
   "metadata": {
    "execution": {
     "iopub.execute_input": "2022-05-23T20:50:47.508602Z",
     "iopub.status.busy": "2022-05-23T20:50:47.508166Z",
     "iopub.status.idle": "2022-05-23T20:50:47.511655Z",
     "shell.execute_reply": "2022-05-23T20:50:47.510791Z",
     "shell.execute_reply.started": "2022-05-23T20:50:47.508571Z"
    }
   },
   "outputs": [],
   "source": [
    "import time"
   ]
  },
  {
   "cell_type": "code",
   "execution_count": 11,
   "metadata": {
    "execution": {
     "iopub.execute_input": "2022-05-23T20:53:47.524975Z",
     "iopub.status.busy": "2022-05-23T20:53:47.524662Z",
     "iopub.status.idle": "2022-05-23T20:56:41.974482Z",
     "shell.execute_reply": "2022-05-23T20:56:41.973741Z",
     "shell.execute_reply.started": "2022-05-23T20:53:47.524937Z"
    }
   },
   "outputs": [
    {
     "name": "stdout",
     "output_type": "stream",
     "text": [
      "Starts training process\n",
      "epoch 0 loss: 1862.2208721209236\n",
      "epoch 100 loss: 34.046737346243084\n",
      "epoch 200 loss: 29.450496090710562\n",
      "epoch 300 loss: 27.58955319876675\n",
      "epoch 400 loss: 26.496810150850933\n",
      "epoch 500 loss: 25.75107238893705\n",
      "epoch 600 loss: 25.19721310275287\n",
      "epoch 700 loss: 24.74291609554018\n",
      "epoch 800 loss: 24.367977733813024\n",
      "epoch 900 loss: 24.040078601915113\n",
      "epoch 1000 loss: 23.75190015501161\n",
      "epoch 1100 loss: 23.49709030403921\n",
      "epoch 1200 loss: 23.26363237454798\n",
      "epoch 1300 loss: 23.054161354729295\n",
      "epoch 1400 loss: 22.8636835706345\n",
      "epoch 1500 loss: 22.68679345122708\n",
      "epoch 1600 loss: 22.523499486163526\n",
      "epoch 1700 loss: 22.36778692128865\n",
      "epoch 1800 loss: 22.225219152783836\n",
      "epoch 1900 loss: 22.092072523159885\n",
      "epoch 2000 loss: 21.964041441409062\n",
      "epoch 2100 loss: 21.849133515462476\n",
      "epoch 2200 loss: 21.739230289558144\n",
      "epoch 2300 loss: 21.632299508849623\n",
      "epoch 2400 loss: 21.522851959801944\n",
      "epoch 2500 loss: 21.41417052300382\n",
      "epoch 2600 loss: 21.3138461317142\n",
      "epoch 2700 loss: 21.209077630657813\n",
      "epoch 2800 loss: 21.120110653607146\n",
      "epoch 2900 loss: 21.03240881883339\n",
      "Ends training process, total time - 1762.923665046692\n"
     ]
    },
    {
     "data": {
      "image/png": "[encoded data removed]",
      "text/plain": [
       "<Figure size 432x288 with 1 Axes>"
      ]
     },
     "metadata": {
      "needs_background": "light"
     },
     "output_type": "display_data"
    }
   ],
   "source": [
    "start = time.time()\n",
    "print(\"Starts training process\")\n",
    "model = train(pred)\n",
    "end = time.time()\n",
    "print(\"Ends training process, total time - \" + str(end - start))"
   ]
  },
  {
   "cell_type": "code",
   "execution_count": 12,
   "metadata": {
    "execution": {
     "iopub.execute_input": "2022-05-23T20:57:11.158547Z",
     "iopub.status.busy": "2022-05-23T20:57:11.158061Z",
     "iopub.status.idle": "2022-05-23T20:57:11.165608Z",
     "shell.execute_reply": "2022-05-23T20:57:11.164860Z",
     "shell.execute_reply.started": "2022-05-23T20:57:11.158507Z"
    }
   },
   "outputs": [
    {
     "name": "stdout",
     "output_type": "stream",
     "text": [
      "Starts training process\n",
      "epoch 0 loss: 20.933822164651975\n",
      "epoch 100 loss: 20.847162338546674\n",
      "epoch 200 loss: 20.747571896805265\n",
      "epoch 300 loss: 20.665585656543385\n",
      "epoch 400 loss: 20.58399496564162\n",
      "epoch 500 loss: 20.507563354557384\n",
      "epoch 600 loss: 20.436054203787453\n",
      "epoch 700 loss: 20.36631137713754\n",
      "epoch 800 loss: 20.28411344275682\n",
      "epoch 900 loss: 20.202270703547356\n",
      "epoch 1000 loss: 20.124937924378525\n",
      "epoch 1100 loss: 20.054744264417135\n",
      "epoch 1200 loss: 19.996455215600758\n",
      "epoch 1300 loss: 19.944146799526894\n",
      "epoch 1400 loss: 19.881684368947322\n",
      "epoch 1500 loss: 19.825480105691977\n",
      "epoch 1600 loss: 19.754845758697257\n",
      "epoch 1700 loss: 19.696117298450552\n",
      "epoch 1800 loss: 19.647498841155397\n",
      "epoch 1900 loss: 19.593513005693108\n",
      "epoch 2000 loss: 19.54080149825967\n",
      "epoch 2100 loss: 19.48457757125478\n",
      "epoch 2200 loss: 19.436036188495954\n",
      "epoch 2300 loss: 19.388531967299645\n",
      "epoch 2400 loss: 19.3435780432985\n",
      "epoch 2500 loss: 19.29996136462672\n",
      "epoch 2600 loss: 19.26066891901069\n",
      "epoch 2700 loss: 19.21328607483532\n",
      "epoch 2800 loss: 19.17966952133488\n",
      "epoch 2900 loss: 19.13683664030521\n",
      "Ends training process, total time - 1808.2399570941925\n"
     ]
    },
    {
     "data": {
      "image/png": "[encoded data removed]",
      "text/plain": [
       "<Figure size 432x288 with 1 Axes>"
      ]
     },
     "metadata": {
      "needs_background": "light"
     },
     "output_type": "display_data"
    }
   ],
   "source": [
    "start = time.time()\n",
    "print(\"Starts training process\")\n",
    "model2 = train(model)\n",
    "end = time.time()\n",
    "print(\"Ends training process, total time - \" + str(end - start))"
   ]
  },
  {
   "cell_type": "code",
   "execution_count": 13,
   "metadata": {
    "execution": {
     "iopub.execute_input": "2022-05-23T20:57:20.565439Z",
     "iopub.status.busy": "2022-05-23T20:57:20.564551Z",
     "iopub.status.idle": "2022-05-23T20:57:20.612594Z",
     "shell.execute_reply": "2022-05-23T20:57:20.611686Z",
     "shell.execute_reply.started": "2022-05-23T20:57:20.565392Z"
    }
   },
   "outputs": [],
   "source": [
    "p_test_i, p_test_o = get_city_trajectories(city= city, split=\"test\")"
   ]
  },
  {
   "cell_type": "code",
   "execution_count": 15,
   "metadata": {
    "execution": {
     "iopub.execute_input": "2022-05-23T21:05:38.639426Z",
     "iopub.status.busy": "2022-05-23T21:05:38.639099Z",
     "iopub.status.idle": "2022-05-23T21:05:38.646060Z",
     "shell.execute_reply": "2022-05-23T21:05:38.645109Z",
     "shell.execute_reply.started": "2022-05-23T21:05:38.639394Z"
    }
   },
   "outputs": [],
   "source": [
    "def predict(model, test_inp):\n",
    "    x_i = test_inp[0][0]\n",
    "    y_i = test_inp[0][1]\n",
    "    \n",
    "    pred = model(torch.tensor(preprocess_single(test_inp, None)[0]))[0]\n",
    "    \n",
    "    pred_x = pred[:, 0] + x_i\n",
    "    pred_y = pred[:, 1] + y_i\n",
    "    \n",
    "    return pred_x, pred_y"
   ]
  },
  {
   "cell_type": "code",
   "execution_count": 16,
   "metadata": {},
   "outputs": [],
   "source": [
    "# here inp and out are single-target\n",
    "def preprocess_single(inp, out):\n",
    "    x_i = inp[0][0]\n",
    "    y_i = inp[0][1]\n",
    "    \n",
    "    prep_inp = np.concatenate([(inp[:, 0] - x_i).reshape(50, 1), (inp[:, 1] - y_i).reshape(50, 1)], axis=1)\n",
    "    \n",
    "    if out is None:\n",
    "        return prep_inp, None\n",
    "\n",
    "    prep_out = np.concatenate([(out[:, 0] - x_i).reshape(60, 1), (out[:, 1] - y_i).reshape(60, 1)], axis=1)\n",
    "    \n",
    "    return prep_inp, prep_out"
   ]
  },
  {
   "cell_type": "code",
   "execution_count": 19,
   "metadata": {
    "execution": {
     "iopub.execute_input": "2022-05-23T21:08:07.289755Z",
     "iopub.status.busy": "2022-05-23T21:08:07.288991Z",
     "iopub.status.idle": "2022-05-23T21:08:15.413858Z",
     "shell.execute_reply": "2022-05-23T21:08:15.412820Z",
     "shell.execute_reply.started": "2022-05-23T21:08:07.289711Z"
    }
   },
   "outputs": [
    {
     "name": "stdout",
     "output_type": "stream",
     "text": [
      "predicts for 0 is done\n",
      "predicts for 100 is done\n",
      "predicts for 200 is done\n",
      "predicts for 300 is done\n",
      "predicts for 400 is done\n",
      "predicts for 500 is done\n",
      "predicts for 600 is done\n",
      "predicts for 700 is done\n",
      "predicts for 800 is done\n",
      "predicts for 900 is done\n",
      "predicts for 1000 is done\n",
      "predicts for 1100 is done\n",
      "predicts for 1200 is done\n",
      "predicts for 1300 is done\n",
      "predicts for 1400 is done\n",
      "predicts for 1500 is done\n",
      "predicts for 1600 is done\n",
      "predicts for 1700 is done\n",
      "predicts for 1800 is done\n",
      "predicts for 1900 is done\n",
      "predicts for 2000 is done\n",
      "predicts for 2100 is done\n",
      "predicts for 2200 is done\n",
      "predicts for 2300 is done\n",
      "predicts for 2400 is done\n",
      "predicts for 2500 is done\n",
      "predicts for 2600 is done\n",
      "predicts for 2700 is done\n",
      "predicts for 2800 is done\n",
      "predicts for 2900 is done\n",
      "predicts for 3000 is done\n",
      "predicts for 3100 is done\n",
      "predicts for 3200 is done\n",
      "predicts for 3300 is done\n",
      "predicts for 3400 is done\n",
      "predicts for 3500 is done\n",
      "predicts for 3600 is done\n",
      "predicts for 3700 is done\n",
      "predicts for 3800 is done\n",
      "predicts for 3900 is done\n",
      "predicts for 4000 is done\n",
      "predicts for 4100 is done\n",
      "predicts for 4200 is done\n",
      "predicts for 4300 is done\n",
      "predicts for 4400 is done\n",
      "predicts for 4500 is done\n",
      "predicts for 4600 is done\n",
      "predicts for 4700 is done\n",
      "predicts for 4800 is done\n",
      "predicts for 4900 is done\n",
      "predicts for 5000 is done\n",
      "predicts for 5100 is done\n",
      "predicts for 5200 is done\n",
      "predicts for 5300 is done\n",
      "predicts for 5400 is done\n",
      "predicts for 5500 is done\n",
      "predicts for 5600 is done\n",
      "predicts for 5700 is done\n",
      "predicts for 5800 is done\n",
      "predicts for 5900 is done\n",
      "predicts for 6000 is done\n",
      "predicts for 6100 is done\n",
      "predicts for 6200 is done\n",
      "predicts for 6300 is done\n"
     ]
    }
   ],
   "source": [
    "palo_df = pd.DataFrame()\n",
    "for i in range(len(p_test_i)):\n",
    "    \n",
    "#     predict = model_3(torch.tensor(normalize(p_test_i[i])))\n",
    "    p_x, p_y = predict(model2, p_test_i[i])\n",
    "    \n",
    "    if i % 100 == 0:\n",
    "        print(\"predicts for \" + str(i) + \" is done\")\n",
    "    temp_dict = {}\n",
    "    for j in range(0, 120, 2):\n",
    "        col_x = 'v' + str(j)\n",
    "        col_y = 'v' + str(j+1)\n",
    "        row = j // 2\n",
    "#         temp_dict[col_x] = predict[0][row][0].item() * global_x_std + global_x_mean\n",
    "#         temp_dict[col_y] = predict[0][row][1].item() * global_y_std + global_y_mean\n",
    "        temp_dict[col_x] = p_x[row].item()\n",
    "        temp_dict[col_y] = p_y[row].item()\n",
    "    \n",
    "    temp_idx_name = str(i) + \"_\" + city\n",
    "    temp_final = pd.DataFrame(temp_dict, index=[temp_idx_name])\n",
    "    palo_df = pd.concat([palo_df, temp_final])"
   ]
  },
  {
   "cell_type": "code",
   "execution_count": 21,
   "metadata": {
    "execution": {
     "iopub.execute_input": "2022-05-23T21:08:23.642840Z",
     "iopub.status.busy": "2022-05-23T21:08:23.642517Z",
     "iopub.status.idle": "2022-05-23T21:08:24.062082Z",
     "shell.execute_reply": "2022-05-23T21:08:24.061338Z",
     "shell.execute_reply.started": "2022-05-23T21:08:23.642801Z"
    }
   },
   "outputs": [],
   "source": [
    "palo_df.reset_index(level=0).rename(columns={\"index\": \"ID\"}).to_csv(\"model5_{}.csv\".format(city), index=False)"
   ]
  }
  ,
  {
   "cell_type": "code",
   "execution_count": null,
   "metadata": {},
   "outputs": [],
   "source": []
  },
  {
   "cell_type": "code",
   "execution_count": null,
   "metadata": {},
   "outputs": [],
   "source": []
  }
 ],
 "metadata": {
  "kernelspec": {
   "display_name": "Python 3",
   "language": "python",
   "name": "python3"
  },
  "language_info": {
   "codemirror_mode": {
    "name": "ipython",
    "version": 3
   },
   "file_extension": ".py",
   "mimetype": "text/x-python",
   "name": "python",
   "nbconvert_exporter": "python",
   "pygments_lexer": "ipython3",
   "version": "3.8.5"
  }
 },
 "nbformat": 4,
 "nbformat_minor": 4
}
