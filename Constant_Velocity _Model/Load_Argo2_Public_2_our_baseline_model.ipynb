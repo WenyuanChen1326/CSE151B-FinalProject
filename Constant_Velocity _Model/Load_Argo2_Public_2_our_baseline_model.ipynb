{
 "cells": [
  {
   "cell_type": "markdown",
   "id": "ac4338df",
   "metadata": {},
   "source": [
    "## Install the package dependencies before running this notebook"
   ]
  },
  {
   "cell_type": "code",
   "execution_count": 1,
   "id": "cba09e8a",
   "metadata": {},
   "outputs": [
    {
     "data": {
      "text/plain": [
       "'\\n    number of trajectories in each city\\n    # austin --  train: 43041 test: 6325 \\n    # miami -- train: 55029 test:7971\\n    # pittsburgh -- train: 43544 test: 6361\\n    # dearborn -- train: 24465 test: 3671\\n    # washington-dc -- train: 25744 test: 3829\\n    # palo-alto -- train:  11993 test:1686\\n\\n    trajectories sampled at 10HZ rate, input 5 seconds, output 6 seconds\\n    \\n'"
      ]
     },
     "execution_count": 1,
     "metadata": {},
     "output_type": "execute_result"
    }
   ],
   "source": [
    "import torch\n",
    "from torch.utils.data import Dataset, DataLoader\n",
    "import os, os.path \n",
    "import numpy \n",
    "import pickle\n",
    "from glob import glob\n",
    "\n",
    "\"\"\"\n",
    "    number of trajectories in each city\n",
    "    # austin --  train: 43041 test: 6325 \n",
    "    # miami -- train: 55029 test:7971\n",
    "    # pittsburgh -- train: 43544 test: 6361\n",
    "    # dearborn -- train: 24465 test: 3671\n",
    "    # washington-dc -- train: 25744 test: 3829\n",
    "    # palo-alto -- train:  11993 test:1686\n",
    "\n",
    "    trajectories sampled at 10HZ rate, input 5 seconds, output 6 seconds\n",
    "    \n",
    "\"\"\""
   ]
  },
  {
   "cell_type": "markdown",
   "id": "a6a9b084",
   "metadata": {},
   "source": [
    "## Create a Torch.Dataset class for the training dataset"
   ]
  },
  {
   "cell_type": "code",
   "execution_count": 2,
   "id": "92e8b44f",
   "metadata": {},
   "outputs": [
    {
     "name": "stdout",
     "output_type": "stream",
     "text": [
      "the number of training data:203816\n",
      "the number of training data:29843\n"
     ]
    }
   ],
   "source": [
    "from glob import glob\n",
    "import pickle\n",
    "import numpy as np\n",
    "\n",
    "ROOT_PATH = \"\"\n",
    "\n",
    "cities = [\"austin\", \"miami\", \"pittsburgh\", \"dearborn\", \"washington-dc\", \"palo-alto\"]\n",
    "splits = [\"train\", \"test\"]\n",
    "\n",
    "def get_city_trajectories(city=\"palo-alto\", split=\"train\", normalized=False):\n",
    "    f_in = ROOT_PATH + split + \"/\" + city + \"_inputs\"\n",
    "    inputs = pickle.load(open(f_in, \"rb\"))\n",
    "    inputs = np.asarray(inputs)\n",
    "    \n",
    "    outputs = None\n",
    "    \n",
    "    if split==\"train\":\n",
    "        f_out = ROOT_PATH + split + \"/\" + city + \"_outputs\"\n",
    "        outputs = pickle.load(open(f_out, \"rb\"))\n",
    "        outputs = np.asarray(outputs)\n",
    "\n",
    "    return inputs, outputs\n",
    "\n",
    "class ArgoverseDataset(Dataset):\n",
    "    \"\"\"Dataset class for Argoverse\"\"\"\n",
    "    def __init__(self, city: str, split:str, transform=None):\n",
    "        super(ArgoverseDataset, self).__init__()\n",
    "        self.transform = transform\n",
    "\n",
    "        self.inputs, self.outputs = get_city_trajectories(city=city, split=split, normalized=False)\n",
    "\n",
    "    def __len__(self):\n",
    "        return len(self.inputs)\n",
    "\n",
    "    def __getitem__(self, idx):\n",
    "\n",
    "        data = (self.inputs[idx], self.outputs[idx])\n",
    "            \n",
    "        if self.transform:\n",
    "            data = self.transform(data)\n",
    "\n",
    "        return data\n",
    "\n",
    "# intialize a dataset\n",
    "count_train = 0\n",
    "for i in cities:\n",
    "    city = i  \n",
    "    split = 'train'\n",
    "    train_dataset  = ArgoverseDataset(city = city, split = split)\n",
    "    count_train += len(train_dataset)\n",
    "print(\"the number of training data:\" + str(count_train))\n",
    "\n",
    "count_test = 0\n",
    "for i in cities:\n",
    "    city = i  \n",
    "    split = 'test'\n",
    "    test_dataset  = ArgoverseDataset(city = city, split = split)\n",
    "    count_test+= len(test_dataset)\n",
    "print(\"the number of training data:\" + str(count_test))"
   ]
  },
  {
   "cell_type": "code",
   "execution_count": 3,
   "id": "201661b2",
   "metadata": {},
   "outputs": [],
   "source": [
    "i,o = get_city_trajectories(city = cities[0])\n",
    "for city in cities[1:]:\n",
    "    a,b = get_city_trajectories(city = city)\n",
    "    i = np.concatenate([i, a])\n",
    "    o = np.concatenate([o, b])\n",
    "for city in cities:\n",
    "    a,b = get_city_trajectories(city = city, split = 'test')\n",
    "    i = np.concatenate([i, a])"
   ]
  },
  {
   "cell_type": "code",
   "execution_count": 4,
   "id": "65f89668",
   "metadata": {
    "scrolled": true
   },
   "outputs": [],
   "source": [
    "# if we use 1000 as interval\n",
    "input_x =i[:,:,0].reshape(-1)\n",
    "input_y = i[:,:,1].reshape(-1)\n",
    "output_x = o[:,:,0].reshape(-1)\n",
    "output_y = o[:,:,1].reshape(-1)"
   ]
  },
  {
   "cell_type": "code",
   "execution_count": 5,
   "id": "645e9cc5",
   "metadata": {},
   "outputs": [
    {
     "data": {
      "text/plain": [
       "-9222.61470641863"
      ]
     },
     "execution_count": 5,
     "metadata": {},
     "output_type": "execute_result"
    }
   ],
   "source": [
    "np.min(input_x)"
   ]
  },
  {
   "cell_type": "code",
   "execution_count": 6,
   "id": "6a30e5bd",
   "metadata": {},
   "outputs": [],
   "source": [
    "interval = 100"
   ]
  },
  {
   "cell_type": "code",
   "execution_count": 168,
   "id": "6f0608f2",
   "metadata": {},
   "outputs": [
    {
     "data": {
      "image/png": "[encoded data removed]",
      "text/plain": [
       "<Figure size 432x288 with 2 Axes>"
      ]
     },
     "metadata": {
      "needs_background": "light"
     },
     "output_type": "display_data"
    }
   ],
   "source": [
    "x_min = np.min(input_x)\n",
    "y_min = np.min(input_y)\n",
    "m = (np.max(input_x) - np.min(input_x))//interval\n",
    "m= int(m+1)\n",
    "n = (np.max(input_y) - np.min(input_y))//interval\n",
    "n = int(n +1)\n",
    "counter_map = np.zeros((m,n))\n",
    "for _ in i:\n",
    "    for p in _:\n",
    "        temp_x = p[0]\n",
    "        temp_y = p[1]\n",
    "        temp_m = int((temp_x - x_min) // interval)\n",
    "        temp_n = int((temp_y - y_min) // interval)\n",
    "        counter_map[temp_m][temp_n] += 1\n",
    "import numpy as np\n",
    "import seaborn as sns\n",
    "ax = sns.heatmap(counter_map, cmap = 'Blues')"
   ]
  },
  {
   "cell_type": "code",
   "execution_count": 162,
   "id": "f224f9da",
   "metadata": {},
   "outputs": [
    {
     "data": {
      "image/png": "[encoded data removed]",
      "text/plain": [
       "<Figure size 432x288 with 2 Axes>"
      ]
     },
     "metadata": {
      "needs_background": "light"
     },
     "output_type": "display_data"
    }
   ],
   "source": [
    "x_min = np.min(output_x)\n",
    "y_min = np.min(output_y)\n",
    "m = (np.max(output_x) - np.min(output_x))//interval\n",
    "m= int(m+1)\n",
    "n = (np.max(output_y) - np.min(output_y))//interval\n",
    "n = int(n +1)\n",
    "counter_map = np.zeros((m,n))\n",
    "for _ in o:\n",
    "    for p in _:\n",
    "        temp_x = p[0]\n",
    "        temp_y = p[1]\n",
    "        temp_m = int((temp_x - x_min) // interval)\n",
    "        temp_n = int((temp_y - y_min) // interval)\n",
    "        counter_map[temp_m][temp_n] += 1\n",
    "import numpy as np\n",
    "import seaborn as sns\n",
    "ax = sns.heatmap(counter_map, cmap = 'Blues')"
   ]
  },
  {
   "cell_type": "code",
   "execution_count": 153,
   "id": "d542b844",
   "metadata": {},
   "outputs": [],
   "source": [
    "def _heatmap_city(city, interval, ax, inp = True):\n",
    "        i,o = get_city_trajectories(city = city)\n",
    "        a,b = get_city_trajectories(city = city, split ='test')\n",
    "        i = np.concatenate([i, a])\n",
    "        \n",
    "        input_x =i[:,:,0].reshape(-1)\n",
    "        input_y = i[:,:,1].reshape(-1)\n",
    "        output_x = o[:,:,0].reshape(-1)\n",
    "        output_y = o[:,:,1].reshape(-1)\n",
    "        if not inp:\n",
    "            x_min = np.min(output_x)\n",
    "            y_min = np.min(output_y)\n",
    "\n",
    "            m = (np.max(output_x) - np.min(output_x))//interval\n",
    "            m = int(m+1)\n",
    "            n = (np.max(output_y) - np.min(output_y))//interval\n",
    "            n = int(n +1)\n",
    "            counter_map = np.zeros((m,n))\n",
    "        \n",
    "            for _ in i:\n",
    "                for p in _:\n",
    "                    temp_x = p[0]\n",
    "                    temp_y = p[1]\n",
    "                    temp_m = int((temp_x - x_min) // interval)\n",
    "                    temp_n = int((temp_y - y_min) // interval)\n",
    "                    counter_map[temp_m][temp_n] += 1\n",
    "            ax = sns.heatmap(counter_map, cmap = 'Blues', ax = axes[ax,1])\n",
    "            ax.set_title(\"output distribution at city {}\".format(city))\n",
    "        else:\n",
    "            x_min = np.min(input_x)\n",
    "            y_min = np.min(input_y)\n",
    "\n",
    "            m = (np.max(input_x) - np.min(input_x))//interval\n",
    "            m = int(m+1)\n",
    "            n = (np.max(input_y) - np.min(input_y))//interval\n",
    "            n = int(n +1)\n",
    "            counter_map = np.zeros((m,n))\n",
    "        \n",
    "            for _ in i:\n",
    "                for p in _:\n",
    "                    temp_x = p[0]\n",
    "                    temp_y = p[1]\n",
    "                    temp_m = int((temp_x - x_min) // interval)\n",
    "                    temp_n = int((temp_y - y_min) // interval)\n",
    "                    counter_map[temp_m][temp_n] += 1\n",
    "            ax = sns.heatmap(counter_map, cmap = 'Blues', ax = axes[ax,0])\n",
    "            ax.set_title(\"input distribution at city {}\".format(city))\n",
    "            \n",
    "    \n",
    "    "
   ]
  },
  {
   "cell_type": "code",
   "execution_count": 159,
   "id": "83097716",
   "metadata": {},
   "outputs": [
    {
     "data": {
      "image/png": "[encoded data removed]",
      "text/plain": [
       "<Figure size 1080x1080 with 24 Axes>"
      ]
     },
     "metadata": {
      "needs_background": "light"
     },
     "output_type": "display_data"
    }
   ],
   "source": [
    "nrows = 12\n",
    "n_cols = 2\n",
    "fig, axes = plt.subplots(nrows=int(np.ceil(nrows/n_cols)), \n",
    "                         ncols=n_cols, \n",
    "                         figsize=(15,15))\n",
    "\n",
    "for inx, city in enumerate (cities):\n",
    "    _heatmap_city(city = city, interval = 1000, ax = inx)\n",
    "for inx, city in enumerate (cities):\n",
    "    _heatmap_city(city = city, interval = 1000, ax = inx, inp = False)\n",
    "plt.tight_layout()\n",
    "    \n",
    "    "
   ]
  },
  {
   "cell_type": "markdown",
   "id": "15d8480a",
   "metadata": {},
   "source": [
    "## Create a DataLoader class for training"
   ]
  },
  {
   "cell_type": "code",
   "execution_count": 5,
   "id": "a0d0204e",
   "metadata": {},
   "outputs": [],
   "source": [
    "batch_sz = 4  # batch size \n",
    "train_loader = DataLoader(train_dataset,batch_size=batch_sz)"
   ]
  },
  {
   "cell_type": "markdown",
   "id": "f4328af6",
   "metadata": {},
   "source": [
    "## Sample a batch of data and visualize "
   ]
  },
  {
   "cell_type": "code",
   "execution_count": 6,
   "id": "0fd7d99a",
   "metadata": {},
   "outputs": [
    {
     "data": {
      "image/png": "[encoded data removed]",
      "text/plain": [
       "<Figure size 1080x216 with 4 Axes>"
      ]
     },
     "metadata": {},
     "output_type": "display_data"
    }
   ],
   "source": [
    "import matplotlib.pyplot as plt\n",
    "import random\n",
    "\n",
    "\n",
    "def show_sample_batch(sample_batch):\n",
    "    \"\"\"visualize the trajectory for a batch of samples\"\"\"\n",
    "    inp, out = sample_batch\n",
    "    batch_sz = inp.size(0)\n",
    "    agent_sz = inp.size(1)\n",
    "    \n",
    "    fig, axs = plt.subplots(1,batch_sz, figsize=(15, 3), facecolor='w', edgecolor='k')\n",
    "    fig.subplots_adjust(hspace = .5, wspace=.001)\n",
    "    axs = axs.ravel()   \n",
    "    for i in range(batch_sz):\n",
    "        axs[i].xaxis.set_ticks([])\n",
    "        axs[i].yaxis.set_ticks([])\n",
    "        \n",
    "        # first two feature dimensions are (x,y) positions\n",
    "        axs[i].scatter(inp[i,:,0], inp[i,:,1])\n",
    "        axs[i].scatter(out[i,:,0], out[i,:,1])\n",
    "\n",
    "        \n",
    "for i_batch, sample_batch in enumerate(train_loader):\n",
    "    inp, out = sample_batch\n",
    "    \"\"\"\n",
    "    TODO:\n",
    "      implement your Deep learning model\n",
    "      implement training routine\n",
    "    \"\"\"\n",
    "    show_sample_batch(sample_batch)\n",
    "    break"
   ]
  },
  {
   "cell_type": "code",
   "execution_count": 7,
   "id": "f25fa7cb",
   "metadata": {},
   "outputs": [],
   "source": [
    "import numpy as np\n",
    "import pandas as pd\n",
    "import seaborn as sns\n",
    "import matplotlib.pyplot as plt"
   ]
  },
  {
   "cell_type": "code",
   "execution_count": null,
   "id": "8c835181",
   "metadata": {},
   "outputs": [],
   "source": []
  },
  {
   "cell_type": "code",
   "execution_count": 55,
   "id": "0e287610",
   "metadata": {},
   "outputs": [],
   "source": [
    "p_i, p_o = get_city_trajectories(city=\"palo-alto\", split=\"test\", normalized=False)"
   ]
  },
  {
   "cell_type": "code",
   "execution_count": 56,
   "id": "a95ea0fe",
   "metadata": {
    "scrolled": true
   },
   "outputs": [
    {
     "data": {
      "text/plain": [
       "(1686, 50, 2)"
      ]
     },
     "execution_count": 56,
     "metadata": {},
     "output_type": "execute_result"
    }
   ],
   "source": [
    "p_i.shape"
   ]
  },
  {
   "cell_type": "code",
   "execution_count": 57,
   "id": "e2c78b91",
   "metadata": {},
   "outputs": [],
   "source": [
    "def predict(inp):\n",
    "    x_start = inp[0][0]\n",
    "    x_final = inp[-1][0]\n",
    "    y_start = inp[0][1]\n",
    "    y_final = inp[-1][1]\n",
    "    \n",
    "    avg_vx = (x_final - x_start) / 50\n",
    "    avg_vy = (y_final - y_start) / 50\n",
    "    \n",
    "    pred = [[x_final + avg_vx * i, y_final + avg_vy * i] for i in range(1, 61)]\n",
    "    \n",
    "    return pred\n"
   ]
  },
  {
   "cell_type": "code",
   "execution_count": 52,
   "id": "4f5b5f72",
   "metadata": {},
   "outputs": [],
   "source": [
    "city = \"palo-alto\""
   ]
  },
  {
   "cell_type": "code",
   "execution_count": 59,
   "id": "814dcee6",
   "metadata": {},
   "outputs": [],
   "source": [
    "palo_alto_df = pd.DataFrame()\n",
    "for i in range(len(p_i)):\n",
    "    \n",
    "    pred = predict(p_i[i])\n",
    "    \n",
    "    temp_dict = {}\n",
    "    for j in range(0, 120, 2):\n",
    "        col_x = 'v' + str(j)\n",
    "        col_y = 'v' + str(j+1)\n",
    "        row = j // 2\n",
    "        temp_dict[col_x] = pred[row][0]\n",
    "        temp_dict[col_y] = pred[row][1]\n",
    "    \n",
    "    temp_idx_name = str(i) + \"_\" + city\n",
    "    temp_final = pd.DataFrame(temp_dict, index=[temp_idx_name])\n",
    "    palo_alto_df = pd.concat([palo_alto_df, temp_final])"
   ]
  },
  {
   "cell_type": "code",
   "execution_count": null,
   "id": "a1d32e1c",
   "metadata": {},
   "outputs": [],
   "source": []
  },
  {
   "cell_type": "code",
   "execution_count": 62,
   "id": "1ff52aa0",
   "metadata": {},
   "outputs": [],
   "source": [
    "a_i, a_o = get_city_trajectories(city=\"austin\", split=\"test\", normalized=False)"
   ]
  },
  {
   "cell_type": "code",
   "execution_count": 63,
   "id": "54112aed",
   "metadata": {},
   "outputs": [],
   "source": [
    "city = \"austin\""
   ]
  },
  {
   "cell_type": "code",
   "execution_count": 64,
   "id": "11252ac6",
   "metadata": {},
   "outputs": [],
   "source": [
    "austin_df = pd.DataFrame()\n",
    "for i in range(len(a_i)):\n",
    "    \n",
    "    pred = predict(a_i[i])\n",
    "    \n",
    "    temp_dict = {}\n",
    "    for j in range(0, 120, 2):\n",
    "        col_x = 'v' + str(j)\n",
    "        col_y = 'v' + str(j+1)\n",
    "        row = j // 2\n",
    "        temp_dict[col_x] = pred[row][0]\n",
    "        temp_dict[col_y] = pred[row][1]\n",
    "    \n",
    "    temp_idx_name = str(i) + \"_\" + city\n",
    "    temp_final = pd.DataFrame(temp_dict, index=[temp_idx_name])\n",
    "    austin_df = pd.concat([austin_df, temp_final])"
   ]
  },
  {
   "cell_type": "code",
   "execution_count": null,
   "id": "20b13fef",
   "metadata": {},
   "outputs": [],
   "source": []
  },
  {
   "cell_type": "code",
   "execution_count": 70,
   "id": "3858c036",
   "metadata": {},
   "outputs": [],
   "source": [
    "m_i, m_o = get_city_trajectories(city=\"miami\", split=\"test\", normalized=False)"
   ]
  },
  {
   "cell_type": "code",
   "execution_count": 71,
   "id": "88473381",
   "metadata": {},
   "outputs": [],
   "source": [
    "city = \"miami\""
   ]
  },
  {
   "cell_type": "code",
   "execution_count": 72,
   "id": "e0d6b131",
   "metadata": {},
   "outputs": [],
   "source": [
    "miami_df = pd.DataFrame()\n",
    "for i in range(len(m_i)):\n",
    "    \n",
    "    pred = predict(m_i[i])\n",
    "    \n",
    "    temp_dict = {}\n",
    "    for j in range(0, 120, 2):\n",
    "        col_x = 'v' + str(j)\n",
    "        col_y = 'v' + str(j+1)\n",
    "        row = j // 2\n",
    "        temp_dict[col_x] = pred[row][0]\n",
    "        temp_dict[col_y] = pred[row][1]\n",
    "    \n",
    "    temp_idx_name = str(i) + \"_\" + city\n",
    "    temp_final = pd.DataFrame(temp_dict, index=[temp_idx_name])\n",
    "    miami_df = pd.concat([miami_df, temp_final])"
   ]
  },
  {
   "cell_type": "code",
   "execution_count": null,
   "id": "efa862fd",
   "metadata": {},
   "outputs": [],
   "source": []
  },
  {
   "cell_type": "code",
   "execution_count": 81,
   "id": "7d6fa6fb",
   "metadata": {},
   "outputs": [],
   "source": [
    "pi_i, pi_o = get_city_trajectories(city=\"pittsburgh\", split=\"test\", normalized=False)"
   ]
  },
  {
   "cell_type": "code",
   "execution_count": 82,
   "id": "e9ba68f2",
   "metadata": {},
   "outputs": [],
   "source": [
    "city = \"pittsburgh\""
   ]
  },
  {
   "cell_type": "code",
   "execution_count": 83,
   "id": "ae26682b",
   "metadata": {},
   "outputs": [],
   "source": [
    "pittsburgh_df = pd.DataFrame()\n",
    "for i in range(len(pi_i)):\n",
    "    \n",
    "    pred = predict(pi_i[i])\n",
    "    \n",
    "    temp_dict = {}\n",
    "    for j in range(0, 120, 2):\n",
    "        col_x = 'v' + str(j)\n",
    "        col_y = 'v' + str(j+1)\n",
    "        row = j // 2\n",
    "        temp_dict[col_x] = pred[row][0]\n",
    "        temp_dict[col_y] = pred[row][1]\n",
    "    \n",
    "    temp_idx_name = str(i) + \"_\" + city\n",
    "    temp_final = pd.DataFrame(temp_dict, index=[temp_idx_name])\n",
    "    pittsburgh_df = pd.concat([pittsburgh_df, temp_final])"
   ]
  },
  {
   "cell_type": "code",
   "execution_count": null,
   "id": "7bd23432",
   "metadata": {},
   "outputs": [],
   "source": []
  },
  {
   "cell_type": "code",
   "execution_count": 90,
   "id": "72677b67",
   "metadata": {},
   "outputs": [],
   "source": [
    "d_i, d_o = get_city_trajectories(city=\"dearborn\", split=\"test\", normalized=False)"
   ]
  },
  {
   "cell_type": "code",
   "execution_count": 91,
   "id": "aff0fb15",
   "metadata": {},
   "outputs": [],
   "source": [
    "city = \"dearborn\""
   ]
  },
  {
   "cell_type": "code",
   "execution_count": 92,
   "id": "debd021a",
   "metadata": {},
   "outputs": [],
   "source": [
    "dearborn_df = pd.DataFrame()\n",
    "for i in range(len(d_i)):\n",
    "    \n",
    "    pred = predict(d_i[i])\n",
    "    \n",
    "    temp_dict = {}\n",
    "    for j in range(0, 120, 2):\n",
    "        col_x = 'v' + str(j)\n",
    "        col_y = 'v' + str(j+1)\n",
    "        row = j // 2\n",
    "        temp_dict[col_x] = pred[row][0]\n",
    "        temp_dict[col_y] = pred[row][1]\n",
    "    \n",
    "    temp_idx_name = str(i) + \"_\" + city\n",
    "    temp_final = pd.DataFrame(temp_dict, index=[temp_idx_name])\n",
    "    dearborn_df = pd.concat([dearborn_df, temp_final])"
   ]
  },
  {
   "cell_type": "code",
   "execution_count": null,
   "id": "c44f0f56",
   "metadata": {},
   "outputs": [],
   "source": []
  },
  {
   "cell_type": "code",
   "execution_count": 96,
   "id": "1f6a4421",
   "metadata": {},
   "outputs": [],
   "source": [
    "w_i, w_o = get_city_trajectories(city=\"washington-dc\", split=\"test\", normalized=False)"
   ]
  },
  {
   "cell_type": "code",
   "execution_count": 97,
   "id": "4e8f8708",
   "metadata": {},
   "outputs": [],
   "source": [
    "city = \"washington-dc\""
   ]
  },
  {
   "cell_type": "code",
   "execution_count": 98,
   "id": "005d8efa",
   "metadata": {},
   "outputs": [],
   "source": [
    "washington_df = pd.DataFrame()\n",
    "for i in range(len(w_i)):\n",
    "    \n",
    "    pred = predict(w_i[i])\n",
    "    \n",
    "    temp_dict = {}\n",
    "    for j in range(0, 120, 2):\n",
    "        col_x = 'v' + str(j)\n",
    "        col_y = 'v' + str(j+1)\n",
    "        row = j // 2\n",
    "        temp_dict[col_x] = pred[row][0]\n",
    "        temp_dict[col_y] = pred[row][1]\n",
    "    \n",
    "    temp_idx_name = str(i) + \"_\" + city\n",
    "    temp_final = pd.DataFrame(temp_dict, index=[temp_idx_name])\n",
    "    washington_df = pd.concat([washington_df, temp_final])"
   ]
  },
  {
   "cell_type": "code",
   "execution_count": null,
   "id": "9834e294",
   "metadata": {},
   "outputs": [],
   "source": []
  },
  {
   "cell_type": "code",
   "execution_count": 114,
   "id": "49331852",
   "metadata": {},
   "outputs": [],
   "source": [
    "final = pd.concat([austin_df, miami_df, pittsburgh_df, dearborn_df, \\\n",
    "           washington_df, palo_alto_df]).reset_index(level=0).rename(columns={\"index\": \"ID\"})"
   ]
  },
  {
   "cell_type": "code",
   "execution_count": 115,
   "id": "41b7f60f",
   "metadata": {},
   "outputs": [],
   "source": [
    "final.to_csv(\"baseline_submission.csv\", index=False)"
   ]
  },
  {
   "cell_type": "code",
   "execution_count": 116,
   "id": "51961389",
   "metadata": {},
   "outputs": [
    {
     "data": {
      "text/html": [
       "<div>\n",
       "<style scoped>\n",
       "    .dataframe tbody tr th:only-of-type {\n",
       "        vertical-align: middle;\n",
       "    }\n",
       "\n",
       "    .dataframe tbody tr th {\n",
       "        vertical-align: top;\n",
       "    }\n",
       "\n",
       "    .dataframe thead th {\n",
       "        text-align: right;\n",
       "    }\n",
       "</style>\n",
       "<table border=\"1\" class=\"dataframe\">\n",
       "  <thead>\n",
       "    <tr style=\"text-align: right;\">\n",
       "      <th></th>\n",
       "      <th>ID</th>\n",
       "      <th>v0</th>\n",
       "      <th>v1</th>\n",
       "      <th>v2</th>\n",
       "      <th>v3</th>\n",
       "      <th>v4</th>\n",
       "      <th>v5</th>\n",
       "      <th>v6</th>\n",
       "      <th>v7</th>\n",
       "      <th>v8</th>\n",
       "      <th>...</th>\n",
       "      <th>v110</th>\n",
       "      <th>v111</th>\n",
       "      <th>v112</th>\n",
       "      <th>v113</th>\n",
       "      <th>v114</th>\n",
       "      <th>v115</th>\n",
       "      <th>v116</th>\n",
       "      <th>v117</th>\n",
       "      <th>v118</th>\n",
       "      <th>v119</th>\n",
       "    </tr>\n",
       "  </thead>\n",
       "  <tbody>\n",
       "    <tr>\n",
       "      <th>0</th>\n",
       "      <td>0_austin</td>\n",
       "      <td>-12.439425</td>\n",
       "      <td>-567.246243</td>\n",
       "      <td>-13.229694</td>\n",
       "      <td>-566.995773</td>\n",
       "      <td>-14.019964</td>\n",
       "      <td>-566.745302</td>\n",
       "      <td>-14.810234</td>\n",
       "      <td>-566.494831</td>\n",
       "      <td>-15.600504</td>\n",
       "      <td>...</td>\n",
       "      <td>-55.904262</td>\n",
       "      <td>-553.470353</td>\n",
       "      <td>-56.694532</td>\n",
       "      <td>-553.219882</td>\n",
       "      <td>-57.484802</td>\n",
       "      <td>-552.969412</td>\n",
       "      <td>-58.275072</td>\n",
       "      <td>-552.718941</td>\n",
       "      <td>-59.065342</td>\n",
       "      <td>-552.468470</td>\n",
       "    </tr>\n",
       "    <tr>\n",
       "      <th>1</th>\n",
       "      <td>1_austin</td>\n",
       "      <td>-345.256309</td>\n",
       "      <td>11.688383</td>\n",
       "      <td>-345.285030</td>\n",
       "      <td>11.079804</td>\n",
       "      <td>-345.313751</td>\n",
       "      <td>10.471225</td>\n",
       "      <td>-345.342471</td>\n",
       "      <td>9.862645</td>\n",
       "      <td>-345.371192</td>\n",
       "      <td>...</td>\n",
       "      <td>-346.835949</td>\n",
       "      <td>-21.783484</td>\n",
       "      <td>-346.864670</td>\n",
       "      <td>-22.392064</td>\n",
       "      <td>-346.893391</td>\n",
       "      <td>-23.000643</td>\n",
       "      <td>-346.922112</td>\n",
       "      <td>-23.609222</td>\n",
       "      <td>-346.950832</td>\n",
       "      <td>-24.217802</td>\n",
       "    </tr>\n",
       "    <tr>\n",
       "      <th>2</th>\n",
       "      <td>2_austin</td>\n",
       "      <td>50.984961</td>\n",
       "      <td>-247.670686</td>\n",
       "      <td>50.982978</td>\n",
       "      <td>-247.672205</td>\n",
       "      <td>50.980995</td>\n",
       "      <td>-247.673725</td>\n",
       "      <td>50.979012</td>\n",
       "      <td>-247.675245</td>\n",
       "      <td>50.977029</td>\n",
       "      <td>...</td>\n",
       "      <td>50.875889</td>\n",
       "      <td>-247.754266</td>\n",
       "      <td>50.873905</td>\n",
       "      <td>-247.755785</td>\n",
       "      <td>50.871922</td>\n",
       "      <td>-247.757305</td>\n",
       "      <td>50.869939</td>\n",
       "      <td>-247.758824</td>\n",
       "      <td>50.867956</td>\n",
       "      <td>-247.760344</td>\n",
       "    </tr>\n",
       "    <tr>\n",
       "      <th>3</th>\n",
       "      <td>3_austin</td>\n",
       "      <td>-113.795903</td>\n",
       "      <td>1798.273531</td>\n",
       "      <td>-113.778500</td>\n",
       "      <td>1798.395963</td>\n",
       "      <td>-113.761096</td>\n",
       "      <td>1798.518395</td>\n",
       "      <td>-113.743693</td>\n",
       "      <td>1798.640827</td>\n",
       "      <td>-113.726289</td>\n",
       "      <td>...</td>\n",
       "      <td>-112.838707</td>\n",
       "      <td>1805.007304</td>\n",
       "      <td>-112.821303</td>\n",
       "      <td>1805.129736</td>\n",
       "      <td>-112.803900</td>\n",
       "      <td>1805.252169</td>\n",
       "      <td>-112.786496</td>\n",
       "      <td>1805.374601</td>\n",
       "      <td>-112.769092</td>\n",
       "      <td>1805.497033</td>\n",
       "    </tr>\n",
       "    <tr>\n",
       "      <th>4</th>\n",
       "      <td>4_austin</td>\n",
       "      <td>1195.745512</td>\n",
       "      <td>-637.942040</td>\n",
       "      <td>1196.796087</td>\n",
       "      <td>-638.366064</td>\n",
       "      <td>1197.846662</td>\n",
       "      <td>-638.790088</td>\n",
       "      <td>1198.897237</td>\n",
       "      <td>-639.214112</td>\n",
       "      <td>1199.947812</td>\n",
       "      <td>...</td>\n",
       "      <td>1253.527133</td>\n",
       "      <td>-661.263354</td>\n",
       "      <td>1254.577708</td>\n",
       "      <td>-661.687378</td>\n",
       "      <td>1255.628283</td>\n",
       "      <td>-662.111402</td>\n",
       "      <td>1256.678857</td>\n",
       "      <td>-662.535426</td>\n",
       "      <td>1257.729432</td>\n",
       "      <td>-662.959450</td>\n",
       "    </tr>\n",
       "    <tr>\n",
       "      <th>...</th>\n",
       "      <td>...</td>\n",
       "      <td>...</td>\n",
       "      <td>...</td>\n",
       "      <td>...</td>\n",
       "      <td>...</td>\n",
       "      <td>...</td>\n",
       "      <td>...</td>\n",
       "      <td>...</td>\n",
       "      <td>...</td>\n",
       "      <td>...</td>\n",
       "      <td>...</td>\n",
       "      <td>...</td>\n",
       "      <td>...</td>\n",
       "      <td>...</td>\n",
       "      <td>...</td>\n",
       "      <td>...</td>\n",
       "      <td>...</td>\n",
       "      <td>...</td>\n",
       "      <td>...</td>\n",
       "      <td>...</td>\n",
       "      <td>...</td>\n",
       "    </tr>\n",
       "    <tr>\n",
       "      <th>29838</th>\n",
       "      <td>1681_palo-alto</td>\n",
       "      <td>-1391.461407</td>\n",
       "      <td>-478.440366</td>\n",
       "      <td>-1391.958298</td>\n",
       "      <td>-479.213360</td>\n",
       "      <td>-1392.455188</td>\n",
       "      <td>-479.986353</td>\n",
       "      <td>-1392.952078</td>\n",
       "      <td>-480.759346</td>\n",
       "      <td>-1393.448969</td>\n",
       "      <td>...</td>\n",
       "      <td>-1418.790379</td>\n",
       "      <td>-520.955002</td>\n",
       "      <td>-1419.287269</td>\n",
       "      <td>-521.727996</td>\n",
       "      <td>-1419.784160</td>\n",
       "      <td>-522.500989</td>\n",
       "      <td>-1420.281050</td>\n",
       "      <td>-523.273983</td>\n",
       "      <td>-1420.777941</td>\n",
       "      <td>-524.046976</td>\n",
       "    </tr>\n",
       "    <tr>\n",
       "      <th>29839</th>\n",
       "      <td>1682_palo-alto</td>\n",
       "      <td>128.906620</td>\n",
       "      <td>-21.070357</td>\n",
       "      <td>128.794739</td>\n",
       "      <td>-20.340438</td>\n",
       "      <td>128.682858</td>\n",
       "      <td>-19.610518</td>\n",
       "      <td>128.570977</td>\n",
       "      <td>-18.880599</td>\n",
       "      <td>128.459097</td>\n",
       "      <td>...</td>\n",
       "      <td>122.753177</td>\n",
       "      <td>19.075204</td>\n",
       "      <td>122.641296</td>\n",
       "      <td>19.805123</td>\n",
       "      <td>122.529415</td>\n",
       "      <td>20.535042</td>\n",
       "      <td>122.417535</td>\n",
       "      <td>21.264962</td>\n",
       "      <td>122.305654</td>\n",
       "      <td>21.994881</td>\n",
       "    </tr>\n",
       "    <tr>\n",
       "      <th>29840</th>\n",
       "      <td>1683_palo-alto</td>\n",
       "      <td>-1436.938098</td>\n",
       "      <td>2161.369207</td>\n",
       "      <td>-1436.852770</td>\n",
       "      <td>2161.304941</td>\n",
       "      <td>-1436.767442</td>\n",
       "      <td>2161.240676</td>\n",
       "      <td>-1436.682114</td>\n",
       "      <td>2161.176411</td>\n",
       "      <td>-1436.596786</td>\n",
       "      <td>...</td>\n",
       "      <td>-1432.245063</td>\n",
       "      <td>2157.834623</td>\n",
       "      <td>-1432.159735</td>\n",
       "      <td>2157.770358</td>\n",
       "      <td>-1432.074408</td>\n",
       "      <td>2157.706093</td>\n",
       "      <td>-1431.989080</td>\n",
       "      <td>2157.641828</td>\n",
       "      <td>-1431.903752</td>\n",
       "      <td>2157.577562</td>\n",
       "    </tr>\n",
       "    <tr>\n",
       "      <th>29841</th>\n",
       "      <td>1684_palo-alto</td>\n",
       "      <td>1071.933826</td>\n",
       "      <td>1398.021907</td>\n",
       "      <td>1072.449139</td>\n",
       "      <td>1398.494160</td>\n",
       "      <td>1072.964452</td>\n",
       "      <td>1398.966414</td>\n",
       "      <td>1073.479765</td>\n",
       "      <td>1399.438667</td>\n",
       "      <td>1073.995077</td>\n",
       "      <td>...</td>\n",
       "      <td>1100.276027</td>\n",
       "      <td>1423.995838</td>\n",
       "      <td>1100.791340</td>\n",
       "      <td>1424.468091</td>\n",
       "      <td>1101.306652</td>\n",
       "      <td>1424.940344</td>\n",
       "      <td>1101.821965</td>\n",
       "      <td>1425.412598</td>\n",
       "      <td>1102.337278</td>\n",
       "      <td>1425.884851</td>\n",
       "    </tr>\n",
       "    <tr>\n",
       "      <th>29842</th>\n",
       "      <td>1685_palo-alto</td>\n",
       "      <td>-35.933457</td>\n",
       "      <td>420.240910</td>\n",
       "      <td>-34.615943</td>\n",
       "      <td>419.429212</td>\n",
       "      <td>-33.298429</td>\n",
       "      <td>418.617514</td>\n",
       "      <td>-31.980914</td>\n",
       "      <td>417.805816</td>\n",
       "      <td>-30.663400</td>\n",
       "      <td>...</td>\n",
       "      <td>36.529815</td>\n",
       "      <td>375.597504</td>\n",
       "      <td>37.847329</td>\n",
       "      <td>374.785806</td>\n",
       "      <td>39.164843</td>\n",
       "      <td>373.974107</td>\n",
       "      <td>40.482357</td>\n",
       "      <td>373.162409</td>\n",
       "      <td>41.799871</td>\n",
       "      <td>372.350711</td>\n",
       "    </tr>\n",
       "  </tbody>\n",
       "</table>\n",
       "<p>29843 rows × 121 columns</p>\n",
       "</div>"
      ],
      "text/plain": [
       "                   ID           v0           v1           v2           v3  \\\n",
       "0            0_austin   -12.439425  -567.246243   -13.229694  -566.995773   \n",
       "1            1_austin  -345.256309    11.688383  -345.285030    11.079804   \n",
       "2            2_austin    50.984961  -247.670686    50.982978  -247.672205   \n",
       "3            3_austin  -113.795903  1798.273531  -113.778500  1798.395963   \n",
       "4            4_austin  1195.745512  -637.942040  1196.796087  -638.366064   \n",
       "...               ...          ...          ...          ...          ...   \n",
       "29838  1681_palo-alto -1391.461407  -478.440366 -1391.958298  -479.213360   \n",
       "29839  1682_palo-alto   128.906620   -21.070357   128.794739   -20.340438   \n",
       "29840  1683_palo-alto -1436.938098  2161.369207 -1436.852770  2161.304941   \n",
       "29841  1684_palo-alto  1071.933826  1398.021907  1072.449139  1398.494160   \n",
       "29842  1685_palo-alto   -35.933457   420.240910   -34.615943   419.429212   \n",
       "\n",
       "                v4           v5           v6           v7           v8  ...  \\\n",
       "0       -14.019964  -566.745302   -14.810234  -566.494831   -15.600504  ...   \n",
       "1      -345.313751    10.471225  -345.342471     9.862645  -345.371192  ...   \n",
       "2        50.980995  -247.673725    50.979012  -247.675245    50.977029  ...   \n",
       "3      -113.761096  1798.518395  -113.743693  1798.640827  -113.726289  ...   \n",
       "4      1197.846662  -638.790088  1198.897237  -639.214112  1199.947812  ...   \n",
       "...            ...          ...          ...          ...          ...  ...   \n",
       "29838 -1392.455188  -479.986353 -1392.952078  -480.759346 -1393.448969  ...   \n",
       "29839   128.682858   -19.610518   128.570977   -18.880599   128.459097  ...   \n",
       "29840 -1436.767442  2161.240676 -1436.682114  2161.176411 -1436.596786  ...   \n",
       "29841  1072.964452  1398.966414  1073.479765  1399.438667  1073.995077  ...   \n",
       "29842   -33.298429   418.617514   -31.980914   417.805816   -30.663400  ...   \n",
       "\n",
       "              v110         v111         v112         v113         v114  \\\n",
       "0       -55.904262  -553.470353   -56.694532  -553.219882   -57.484802   \n",
       "1      -346.835949   -21.783484  -346.864670   -22.392064  -346.893391   \n",
       "2        50.875889  -247.754266    50.873905  -247.755785    50.871922   \n",
       "3      -112.838707  1805.007304  -112.821303  1805.129736  -112.803900   \n",
       "4      1253.527133  -661.263354  1254.577708  -661.687378  1255.628283   \n",
       "...            ...          ...          ...          ...          ...   \n",
       "29838 -1418.790379  -520.955002 -1419.287269  -521.727996 -1419.784160   \n",
       "29839   122.753177    19.075204   122.641296    19.805123   122.529415   \n",
       "29840 -1432.245063  2157.834623 -1432.159735  2157.770358 -1432.074408   \n",
       "29841  1100.276027  1423.995838  1100.791340  1424.468091  1101.306652   \n",
       "29842    36.529815   375.597504    37.847329   374.785806    39.164843   \n",
       "\n",
       "              v115         v116         v117         v118         v119  \n",
       "0      -552.969412   -58.275072  -552.718941   -59.065342  -552.468470  \n",
       "1       -23.000643  -346.922112   -23.609222  -346.950832   -24.217802  \n",
       "2      -247.757305    50.869939  -247.758824    50.867956  -247.760344  \n",
       "3      1805.252169  -112.786496  1805.374601  -112.769092  1805.497033  \n",
       "4      -662.111402  1256.678857  -662.535426  1257.729432  -662.959450  \n",
       "...            ...          ...          ...          ...          ...  \n",
       "29838  -522.500989 -1420.281050  -523.273983 -1420.777941  -524.046976  \n",
       "29839    20.535042   122.417535    21.264962   122.305654    21.994881  \n",
       "29840  2157.706093 -1431.989080  2157.641828 -1431.903752  2157.577562  \n",
       "29841  1424.940344  1101.821965  1425.412598  1102.337278  1425.884851  \n",
       "29842   373.974107    40.482357   373.162409    41.799871   372.350711  \n",
       "\n",
       "[29843 rows x 121 columns]"
      ]
     },
     "execution_count": 116,
     "metadata": {},
     "output_type": "execute_result"
    }
   ],
   "source": [
    "pd.read_csv(\"baseline_submission.csv\")"
   ]
  },
  {
   "cell_type": "code",
   "execution_count": null,
   "id": "caf2b85b",
   "metadata": {},
   "outputs": [],
   "source": []
  },
  {
   "cell_type": "code",
   "execution_count": null,
   "id": "bb0556c5",
   "metadata": {},
   "outputs": [],
   "source": []
  },
  {
   "cell_type": "code",
   "execution_count": null,
   "id": "4c4953ee",
   "metadata": {},
   "outputs": [],
   "source": []
  },
  {
   "cell_type": "code",
   "execution_count": null,
   "id": "13a16d8a",
   "metadata": {},
   "outputs": [],
   "source": []
  }
 ],
 "metadata": {
  "kernelspec": {
   "display_name": "Python 3 (ipykernel)",
   "language": "python",
   "name": "python3"
  },
  "language_info": {
   "codemirror_mode": {
    "name": "ipython",
    "version": 3
   },
   "file_extension": ".py",
   "mimetype": "text/x-python",
   "name": "python",
   "nbconvert_exporter": "python",
   "pygments_lexer": "ipython3",
   "version": "3.9.7"
  }
 },
 "nbformat": 4,
 "nbformat_minor": 5
}
