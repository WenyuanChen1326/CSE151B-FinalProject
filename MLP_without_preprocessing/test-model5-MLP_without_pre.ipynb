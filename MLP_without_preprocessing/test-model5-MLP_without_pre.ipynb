{
 "cells": [
  {
   "cell_type": "code",
   "execution_count": 1,
   "metadata": {
    "_cell_guid": "b1076dfc-b9ad-4769-8c92-a6c4dae69d19",
    "_uuid": "8f2839f25d086af736a60e9eeb907d3b93b6e0e5",
    "execution": {
     "iopub.execute_input": "2022-05-22T22:38:28.973152Z",
     "iopub.status.busy": "2022-05-22T22:38:28.972786Z",
     "iopub.status.idle": "2022-05-22T22:38:29.001956Z",
     "shell.execute_reply": "2022-05-22T22:38:29.000812Z",
     "shell.execute_reply.started": "2022-05-22T22:38:28.973032Z"
    }
   },
   "outputs": [],
   "source": [
    "# This Python 3 environment comes with many helpful analytics libraries installed\n",
    "# It is defined by the kaggle/python Docker image: https://github.com/kaggle/docker-python\n",
    "# For example, here's several helpful packages to load\n",
    "\n",
    "import numpy as np # linear algebra\n",
    "import pandas as pd # data processing, CSV file I/O (e.g. pd.read_csv)\n",
    "\n",
    "# Input data files are available in the read-only \"../input/\" directory\n",
    "# For example, running this (by clicking run or pressing Shift+Enter) will list all files under the input directory\n",
    "\n",
    "import os\n",
    "for dirname, _, filenames in os.walk('/kaggle/input'):\n",
    "    for filename in filenames:\n",
    "        print(os.path.join(dirname, filename))\n",
    "\n",
    "# You can write up to 20GB to the current directory (/kaggle/working/) that gets preserved as output when you create a version using \"Save & Run All\" \n",
    "# You can also write temporary files to /kaggle/temp/, but they won't be saved outside of the current session"
   ]
  },
  {
   "cell_type": "code",
   "execution_count": 3,
   "metadata": {
    "execution": {
     "iopub.execute_input": "2022-05-22T22:38:54.306388Z",
     "iopub.status.busy": "2022-05-22T22:38:54.306049Z",
     "iopub.status.idle": "2022-05-22T22:39:09.827768Z",
     "shell.execute_reply": "2022-05-22T22:39:09.826702Z",
     "shell.execute_reply.started": "2022-05-22T22:38:54.306355Z"
    }
   },
   "outputs": [],
   "source": [
    "pip install pickle5"
   ]
  },
  {
   "cell_type": "code",
   "execution_count": 4,
   "metadata": {
    "execution": {
     "iopub.execute_input": "2022-05-22T22:39:09.830629Z",
     "iopub.status.busy": "2022-05-22T22:39:09.830272Z",
     "iopub.status.idle": "2022-05-22T22:39:12.422541Z",
     "shell.execute_reply": "2022-05-22T22:39:12.421697Z",
     "shell.execute_reply.started": "2022-05-22T22:39:09.830584Z"
    }
   },
   "outputs": [],
   "source": [
    "import torch\n",
    "from torch.utils.data import Dataset, DataLoader\n",
    "import os, os.path \n",
    "import numpy \n",
    "import pickle\n",
    "from glob import glob\n",
    "import numpy as np\n",
    "import pandas as pd\n",
    "import seaborn as sns\n",
    "import matplotlib.pyplot as plt"
   ]
  },
  {
   "cell_type": "code",
   "execution_count": 40,
   "metadata": {
    "execution": {
     "iopub.execute_input": "2022-05-22T22:53:50.352810Z",
     "iopub.status.busy": "2022-05-22T22:53:50.352482Z",
     "iopub.status.idle": "2022-05-22T22:53:50.393094Z",
     "shell.execute_reply": "2022-05-22T22:53:50.392398Z",
     "shell.execute_reply.started": "2022-05-22T22:53:50.352772Z"
    }
   },
   "outputs": [],
   "source": [
    "from glob import glob\n",
    "import pickle5 as pickle\n",
    "import numpy as np\n",
    "\n",
    "ROOT_PATH = \"../input/\"\n",
    "\n",
    "cities = [\"austin\", \"miami\", \"pittsburgh\", \"dearborn\", \"washington-dc\", \"palo-alto\"]\n",
    "splits = [\"train\", \"test\"]\n",
    "\n",
    "def get_city_trajectories(city=\"palo-alto\", split=\"train\", normalized=False):\n",
    "    if split==\"train\":\n",
    "        f_in = ROOT_PATH + split + \"/\" + city + \"_inputs\"\n",
    "        inputs = pickle.load(open(f_in, \"rb\"))\n",
    "        inputs = np.asarray(inputs).astype(np.float64)\n",
    "\n",
    "        outputs = None\n",
    "    \n",
    "        f_out = ROOT_PATH + split + \"/\" + city + \"_outputs\"\n",
    "        outputs = pickle.load(open(f_out, \"rb\"))\n",
    "        outputs = np.asarray(outputs).astype(np.float64)\n",
    "        \n",
    "    elif split==\"test\":\n",
    "        f_in = ROOT_PATH + \"test-inputs\" + \"/\" + city + \"_inputs\"\n",
    "        inputs = pickle.load(open(f_in, \"rb\"))\n",
    "        inputs = np.asarray(inputs).astype(np.float64)\n",
    "\n",
    "        outputs = None\n",
    "        \n",
    "    return inputs, outputs\n",
    "\n",
    "class ArgoverseDataset(Dataset):\n",
    "    \"\"\"Dataset class for Argoverse\"\"\"\n",
    "    def __init__(self, city: str, split:str, transform=None):\n",
    "        super(ArgoverseDataset, self).__init__()\n",
    "        self.transform = transform\n",
    "\n",
    "        self.inputs, self.outputs = get_city_trajectories(city=city, split=split, normalized=False)\n",
    "\n",
    "    def __len__(self):\n",
    "        return len(self.inputs)\n",
    "\n",
    "    def __getitem__(self, idx):\n",
    "\n",
    "        data = (self.inputs[idx], self.outputs[idx])\n",
    "            \n",
    "        if self.transform:\n",
    "            data = self.transform(data)\n",
    "\n",
    "        return data\n",
    "\n",
    "# intialize a dataset\n",
    "city = 'palo-alto' \n",
    "split = 'train'\n",
    "train_dataset  = ArgoverseDataset(city = city, split = split)"
   ]
  },
  {
   "cell_type": "code",
   "execution_count": 33,
   "metadata": {
    "execution": {
     "iopub.execute_input": "2022-05-22T22:52:11.626490Z",
     "iopub.status.busy": "2022-05-22T22:52:11.626210Z",
     "iopub.status.idle": "2022-05-22T22:52:11.634467Z",
     "shell.execute_reply": "2022-05-22T22:52:11.633751Z",
     "shell.execute_reply.started": "2022-05-22T22:52:11.626461Z"
    }
   },
   "outputs": [],
   "source": [
    "# convert the original training document into trainable batches \n",
    "def get_batches(inp, out, batch_size):\n",
    "    \n",
    "    num_batches = int(len(inp) / (batch_size))\n",
    "    \n",
    "    X = inp[:num_batches*batch_size]\n",
    "    Y = out[:num_batches*batch_size]\n",
    "#     Y = np.zeros((len(X), 50))\n",
    "    \n",
    "    \n",
    "    # generate trainable batches\n",
    "    for i in range(0, num_batches*batch_size, batch_size):\n",
    "        Xs = []\n",
    "        Ys = []\n",
    "        for j in range(i, i+batch_size):\n",
    "            temp_x = X[j]\n",
    "               \n",
    "            temp_y = Y[j]\n",
    "            \n",
    "            Xs.append(temp_x)\n",
    "            Ys.append(temp_y)\n",
    "        \n",
    "        Xs = np.array(Xs)\n",
    "        Ys = np.array(Ys)\n",
    "\n",
    "        yield torch.tensor(Xs), torch.tensor(Ys)"
   ]
  },
  {
   "cell_type": "code",
   "execution_count": 34,
   "metadata": {
    "execution": {
     "iopub.execute_input": "2022-05-22T22:52:11.945606Z",
     "iopub.status.busy": "2022-05-22T22:52:11.945185Z",
     "iopub.status.idle": "2022-05-22T22:52:11.949100Z",
     "shell.execute_reply": "2022-05-22T22:52:11.948308Z",
     "shell.execute_reply.started": "2022-05-22T22:52:11.945575Z"
    }
   },
   "outputs": [],
   "source": [
    "import torch.nn as nn"
   ]
  },
  {
   "cell_type": "code",
   "execution_count": 64,
   "metadata": {
    "execution": {
     "iopub.execute_input": "2022-05-22T23:13:37.900935Z",
     "iopub.status.busy": "2022-05-22T23:13:37.900542Z",
     "iopub.status.idle": "2022-05-22T23:13:37.910075Z",
     "shell.execute_reply": "2022-05-22T23:13:37.909401Z",
     "shell.execute_reply.started": "2022-05-22T23:13:37.900898Z"
    }
   },
   "outputs": [],
   "source": [
    "class Pred(nn.Module):\n",
    "\n",
    "    def __init__(self):\n",
    "        super().__init__()\n",
    "        \n",
    "        self.encoder = nn.Sequential(\n",
    "            nn.Linear(100, 64),\n",
    "            nn.ReLU(),\n",
    "#             nn.Linear(64, 32),\n",
    "            nn.Linear(64, 16)\n",
    "#             nn.ReLU(),\n",
    "#             nn.Linear(32, 16),\n",
    "#             nn.ReLU(),\n",
    "#             nn.Linear(16, 16)\n",
    "        )\n",
    "        \n",
    "        self.decoder = nn.Sequential(\n",
    "            nn.Linear(16, 120),\n",
    "            nn.ReLU(),\n",
    "#             nn.Linear(32, 64),\n",
    "#             nn.ReLU(),\n",
    "#             nn.Linear(64, 128),\n",
    "#             nn.ReLU(),\n",
    "#             nn.Linear(128, 120),\n",
    "#             nn.ReLU(),\n",
    "            nn.Linear(120, 120)\n",
    "        )\n",
    "        \n",
    "    def forward(self, x):\n",
    "        x = x.reshape(-1, 100).float()\n",
    "        x = self.encoder(x)\n",
    "        x = self.decoder(x)\n",
    "#         print(\"------\")\n",
    "#         print(x.shape)\n",
    "        x = x.reshape(-1, 60, 2)\n",
    "        return x"
   ]
  },
  {
   "cell_type": "code",
   "execution_count": 76,
   "metadata": {
    "execution": {
     "iopub.execute_input": "2022-05-22T23:19:43.079405Z",
     "iopub.status.busy": "2022-05-22T23:19:43.078352Z",
     "iopub.status.idle": "2022-05-22T23:19:43.086231Z",
     "shell.execute_reply": "2022-05-22T23:19:43.085123Z",
     "shell.execute_reply.started": "2022-05-22T23:19:43.079255Z"
    }
   },
   "outputs": [],
   "source": [
    "pred = Pred()\n",
    "opt = torch.optim.Adam(pred.parameters(), lr=0.0001)"
   ]
  },
  {
   "cell_type": "code",
   "execution_count": 75,
   "metadata": {
    "execution": {
     "iopub.execute_input": "2022-05-22T23:19:26.670414Z",
     "iopub.status.busy": "2022-05-22T23:19:26.669460Z",
     "iopub.status.idle": "2022-05-22T23:19:26.675410Z",
     "shell.execute_reply": "2022-05-22T23:19:26.673908Z",
     "shell.execute_reply.started": "2022-05-22T23:19:26.670258Z"
    }
   },
   "outputs": [],
   "source": [
    "batch_sz = 512  # batch size \n",
    "city = 'palo-alto' \n",
    "split = 'train'\n",
    "train_dataset  = ArgoverseDataset(city = city, split = split)\n",
    "train_loader = DataLoader(train_dataset,batch_size=batch_sz)"
   ]
  },
  {
   "cell_type": "code",
   "execution_count": 77,
   "metadata": {
    "execution": {
     "iopub.execute_input": "2022-05-22T23:20:08.183661Z",
     "iopub.status.busy": "2022-05-22T23:20:08.182929Z",
     "iopub.status.idle": "2022-05-22T23:20:08.189967Z",
     "shell.execute_reply": "2022-05-22T23:20:08.189341Z",
     "shell.execute_reply.started": "2022-05-22T23:20:08.183619Z"
    }
   },
   "outputs": [],
   "source": [
    "def train(pred):\n",
    "    for epoch in range(5000):\n",
    "        total_loss = 0\n",
    "        i = 0\n",
    "        for i_batch, sample_batch in enumerate(train_loader):\n",
    "            inp, out = sample_batch\n",
    "#             print(inp.shape)\n",
    "            preds = pred(inp)\n",
    "#             print(preds.shape)\n",
    "#             print(out.shape)\n",
    "            loss = ((preds - out) ** 2).sum()\n",
    "\n",
    "            opt.zero_grad()\n",
    "            loss.backward()\n",
    "            opt.step()\n",
    "            \n",
    "            i += len(inp) * 60 * 2\n",
    "            \n",
    "            total_loss += loss.item()\n",
    "            \n",
    "        print('epoch {} loss: {}'.format(epoch, total_loss / i))\n",
    "    return pred"
   ]
  },
  {
   "cell_type": "code",
   "execution_count": 78,
   "metadata": {
    "execution": {
     "iopub.execute_input": "2022-05-22T23:20:10.736676Z",
     "iopub.status.busy": "2022-05-22T23:20:10.736388Z",
     "iopub.status.idle": "2022-05-22T23:20:10.741901Z",
     "shell.execute_reply": "2022-05-22T23:20:10.740500Z",
     "shell.execute_reply.started": "2022-05-22T23:20:10.736646Z"
    }
   },
   "outputs": [],
   "source": [
    "import time"
   ]
  },
  {
   "cell_type": "code",
   "execution_count": 79,
   "metadata": {
    "execution": {
     "iopub.execute_input": "2022-05-22T23:20:15.931492Z",
     "iopub.status.busy": "2022-05-22T23:20:15.931167Z",
     "iopub.status.idle": "2022-05-22T23:34:19.571004Z",
     "shell.execute_reply": "2022-05-22T23:34:19.569933Z",
     "shell.execute_reply.started": "2022-05-22T23:20:15.931456Z"
    }
   },
   "outputs": [],
   "source": [
    "start = time.time()\n",
    "print(\"Starts training process\")\n",
    "model = train(pred)\n",
    "end = time.time()\n",
    "print(\"Ends training process, total time - \" + str(end - start))"
   ]
  },
  {
   "cell_type": "code",
   "execution_count": 56,
   "metadata": {
    "execution": {
     "iopub.execute_input": "2022-05-22T23:07:06.975527Z",
     "iopub.status.busy": "2022-05-22T23:07:06.975152Z",
     "iopub.status.idle": "2022-05-22T23:07:07.045344Z",
     "shell.execute_reply": "2022-05-22T23:07:07.044585Z",
     "shell.execute_reply.started": "2022-05-22T23:07:06.975487Z"
    }
   },
   "outputs": [],
   "source": [
    "p_test_i, p_test_o = get_city_trajectories(city=\"palo-alto\", split=\"test\", normalized=False)"
   ]
  },
  {
   "cell_type": "code",
   "execution_count": 58,
   "metadata": {
    "execution": {
     "iopub.execute_input": "2022-05-22T23:07:14.261764Z",
     "iopub.status.busy": "2022-05-22T23:07:14.261345Z",
     "iopub.status.idle": "2022-05-22T23:07:14.268876Z",
     "shell.execute_reply": "2022-05-22T23:07:14.268180Z",
     "shell.execute_reply.started": "2022-05-22T23:07:14.261733Z"
    }
   },
   "outputs": [],
   "source": [
    "p_test_i.shape"
   ]
  },
  {
   "cell_type": "code",
   "execution_count": 61,
   "metadata": {
    "execution": {
     "iopub.execute_input": "2022-05-22T23:08:00.162211Z",
     "iopub.status.busy": "2022-05-22T23:08:00.161671Z",
     "iopub.status.idle": "2022-05-22T23:08:00.204129Z",
     "shell.execute_reply": "2022-05-22T23:08:00.203154Z",
     "shell.execute_reply.started": "2022-05-22T23:08:00.162163Z"
    }
   },
   "outputs": [],
   "source": [
    "p_train_i, p_train_o = get_city_trajectories(city=\"palo-alto\", split=\"train\", normalized=False)"
   ]
  },
  {
   "cell_type": "code",
   "execution_count": 69,
   "metadata": {
    "execution": {
     "iopub.execute_input": "2022-05-22T23:16:48.092787Z",
     "iopub.status.busy": "2022-05-22T23:16:48.092317Z",
     "iopub.status.idle": "2022-05-22T23:16:48.100622Z",
     "shell.execute_reply": "2022-05-22T23:16:48.099908Z",
     "shell.execute_reply.started": "2022-05-22T23:16:48.092736Z"
    }
   },
   "outputs": [],
   "source": [
    "p_train_o[0]"
   ]
  },
  {
   "cell_type": "code",
   "execution_count": 84,
   "metadata": {
    "execution": {
     "iopub.execute_input": "2022-05-22T23:36:54.686292Z",
     "iopub.status.busy": "2022-05-22T23:36:54.685982Z",
     "iopub.status.idle": "2022-05-22T23:36:54.693063Z",
     "shell.execute_reply": "2022-05-22T23:36:54.692162Z",
     "shell.execute_reply.started": "2022-05-22T23:36:54.686258Z"
    }
   },
   "outputs": [],
   "source": [
    "model(torch.tensor(p_train_i[0])).shape"
   ]
  },
  {
   "cell_type": "code",
   "execution_count": 82,
   "metadata": {
    "execution": {
     "iopub.execute_input": "2022-05-22T23:35:30.934126Z",
     "iopub.status.busy": "2022-05-22T23:35:30.933768Z",
     "iopub.status.idle": "2022-05-22T23:35:30.941379Z",
     "shell.execute_reply": "2022-05-22T23:35:30.940321Z",
     "shell.execute_reply.started": "2022-05-22T23:35:30.934062Z"
    }
   },
   "outputs": [],
   "source": [
    "p_test_i.shape"
   ]
  },
  {
   "cell_type": "code",
   "execution_count": 86,
   "metadata": {
    "execution": {
     "iopub.execute_input": "2022-05-22T23:38:24.684228Z",
     "iopub.status.busy": "2022-05-22T23:38:24.683539Z",
     "iopub.status.idle": "2022-05-22T23:38:24.689454Z",
     "shell.execute_reply": "2022-05-22T23:38:24.688305Z",
     "shell.execute_reply.started": "2022-05-22T23:38:24.684187Z"
    }
   },
   "outputs": [],
   "source": [
    "predict = model(torch.tensor(p_test_i[0]))"
   ]
  },
  {
   "cell_type": "code",
   "execution_count": 91,
   "metadata": {
    "execution": {
     "iopub.execute_input": "2022-05-22T23:39:10.671511Z",
     "iopub.status.busy": "2022-05-22T23:39:10.670997Z",
     "iopub.status.idle": "2022-05-22T23:39:10.679500Z",
     "shell.execute_reply": "2022-05-22T23:39:10.678410Z",
     "shell.execute_reply.started": "2022-05-22T23:39:10.671470Z"
    }
   },
   "outputs": [],
   "source": [
    "predict[0][0][0]"
   ]
  },
  {
   "cell_type": "code",
   "execution_count": 92,
   "metadata": {
    "execution": {
     "iopub.execute_input": "2022-05-22T23:39:17.295223Z",
     "iopub.status.busy": "2022-05-22T23:39:17.294915Z",
     "iopub.status.idle": "2022-05-22T23:39:28.937061Z",
     "shell.execute_reply": "2022-05-22T23:39:28.936121Z",
     "shell.execute_reply.started": "2022-05-22T23:39:17.295186Z"
    }
   },
   "outputs": [],
   "source": [
    "palo_df = pd.DataFrame()\n",
    "for i in range(len(p_test_i)):\n",
    "    \n",
    "    predict = model(torch.tensor(p_test_i[i]))\n",
    "    print(\"predicts for \" + str(i) + \" is done\")\n",
    "    temp_dict = {}\n",
    "    for j in range(0, 120, 2):\n",
    "        col_x = 'v' + str(j)\n",
    "        col_y = 'v' + str(j+1)\n",
    "        row = j // 2\n",
    "        temp_dict[col_x] = predict[0][row][0].item()\n",
    "        temp_dict[col_y] = predict[0][row][1].item()\n",
    "    \n",
    "    temp_idx_name = str(i) + \"_\" + \"palo-alto\"\n",
    "    temp_final = pd.DataFrame(temp_dict, index=[temp_idx_name])\n",
    "    palo_df = pd.concat([palo_df, temp_final])"
   ]
  },
  {
   "cell_type": "code",
   "execution_count": 94,
   "metadata": {
    "execution": {
     "iopub.execute_input": "2022-05-22T23:39:59.347064Z",
     "iopub.status.busy": "2022-05-22T23:39:59.346709Z",
     "iopub.status.idle": "2022-05-22T23:39:59.779541Z",
     "shell.execute_reply": "2022-05-22T23:39:59.778455Z",
     "shell.execute_reply.started": "2022-05-22T23:39:59.347029Z"
    }
   },
   "outputs": [],
   "source": [
    "palo_df.reset_index(level=0).rename(columns={\"index\": \"ID\"}).to_csv(\"model5_palo_df.csv\", index=False)"
   ]
  },
  {
   "cell_type": "code",
   "execution_count": null,
   "metadata": {
    "execution": {
     "iopub.execute_input": "2022-05-22T23:40:34.673204Z",
     "iopub.status.busy": "2022-05-22T23:40:34.672879Z",
     "iopub.status.idle": "2022-05-22T23:40:34.874941Z",
     "shell.execute_reply": "2022-05-22T23:40:34.873963Z",
     "shell.execute_reply.started": "2022-05-22T23:40:34.673169Z"
    }
   },
   "outputs": [],
   "source": []
  },
  {
   "cell_type": "code",
   "execution_count": null,
   "metadata": {},
   "outputs": [],
   "source": []
  },
  {
   "cell_type": "code",
   "execution_count": null,
   "metadata": {},
   "outputs": [],
   "source": []
  }
 ],
 "metadata": {
  "kernelspec": {
   "display_name": "Python 3",
   "language": "python",
   "name": "python3"
  },
  "language_info": {
   "codemirror_mode": {
    "name": "ipython",
    "version": 3
   },
   "file_extension": ".py",
   "mimetype": "text/x-python",
   "name": "python",
   "nbconvert_exporter": "python",
   "pygments_lexer": "ipython3",
   "version": "3.8.5"
  }
 },
 "nbformat": 4,
 "nbformat_minor": 4
}
