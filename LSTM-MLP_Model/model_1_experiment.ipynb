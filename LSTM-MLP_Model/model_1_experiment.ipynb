{
 "cells": [
  {
   "cell_type": "code",
   "execution_count": 3,
   "metadata": {},
   "outputs": [
    {
     "data": {
      "text/plain": [
       "'\\n    number of trajectories in each city\\n    # austin --  train: 43041 test: 6325 \\n    # miami -- train: 55029 test:7971\\n    # pittsburgh -- train: 43544 test: 6361\\n    # dearborn -- train: 24465 test: 3671\\n    # washington-dc -- train: 25744 test: 3829\\n    # palo-alto -- train:  11993 test:1686\\n\\n    trajectories sampled at 10HZ rate, input 5 seconds, output 6 seconds\\n    \\n'"
      ]
     },
     "execution_count": 3,
     "metadata": {},
     "output_type": "execute_result"
    }
   ],
   "source": [
    "import torch\n",
    "from torch.utils.data import Dataset, DataLoader\n",
    "import os, os.path \n",
    "import numpy \n",
    "import pickle\n",
    "from glob import glob\n",
    "import numpy as np\n",
    "import pandas as pd\n",
    "import seaborn as sns\n",
    "import matplotlib.pyplot as plt\n",
    "\n",
    "\"\"\"\n",
    "    number of trajectories in each city\n",
    "    # austin --  train: 43041 test: 6325 \n",
    "    # miami -- train: 55029 test:7971\n",
    "    # pittsburgh -- train: 43544 test: 6361\n",
    "    # dearborn -- train: 24465 test: 3671\n",
    "    # washington-dc -- train: 25744 test: 3829\n",
    "    # palo-alto -- train:  11993 test:1686\n",
    "\n",
    "    trajectories sampled at 10HZ rate, input 5 seconds, output 6 seconds\n",
    "    \n",
    "\"\"\""
   ]
  },
  {
   "cell_type": "code",
   "execution_count": 2,
   "metadata": {},
   "outputs": [
    {
     "name": "stdout",
     "output_type": "stream",
     "text": [
      "the number of training data:203816\n",
      "the number of training data:29843\n"
     ]
    }
   ],
   "source": [
    "from glob import glob\n",
    "import pickle\n",
    "import numpy as np\n",
    "\n",
    "ROOT_PATH = \"\"\n",
    "\n",
    "cities = [\"austin\", \"miami\", \"pittsburgh\", \"dearborn\", \"washington-dc\", \"palo-alto\"]\n",
    "splits = [\"train\", \"test\"]\n",
    "\n",
    "def get_city_trajectories(city=\"palo-alto\", split=\"train\", normalized=False):\n",
    "    f_in = ROOT_PATH + split + \"/\" + city + \"_inputs\"\n",
    "    inputs = pickle.load(open(f_in, \"rb\"))\n",
    "    inputs = np.asarray(inputs)\n",
    "    \n",
    "    outputs = None\n",
    "    \n",
    "    if split==\"train\":\n",
    "        f_out = ROOT_PATH + split + \"/\" + city + \"_outputs\"\n",
    "        outputs = pickle.load(open(f_out, \"rb\"))\n",
    "        outputs = np.asarray(outputs)\n",
    "\n",
    "    return inputs, outputs\n",
    "\n",
    "class ArgoverseDataset(Dataset):\n",
    "    \"\"\"Dataset class for Argoverse\"\"\"\n",
    "    def __init__(self, city: str, split:str, transform=None):\n",
    "        super(ArgoverseDataset, self).__init__()\n",
    "        self.transform = transform\n",
    "\n",
    "        self.inputs, self.outputs = get_city_trajectories(city=city, split=split, normalized=False)\n",
    "\n",
    "    def __len__(self):\n",
    "        return len(self.inputs)\n",
    "\n",
    "    def __getitem__(self, idx):\n",
    "\n",
    "        data = (self.inputs[idx], self.outputs[idx])\n",
    "            \n",
    "        if self.transform:\n",
    "            data = self.transform(data)\n",
    "\n",
    "        return data\n",
    "\n",
    "# intialize a dataset\n",
    "count_train = 0\n",
    "for i in cities:\n",
    "    city = i  \n",
    "    split = 'train'\n",
    "    train_dataset  = ArgoverseDataset(city = city, split = split)\n",
    "    count_train += len(train_dataset)\n",
    "print(\"the number of training data:\" + str(count_train))\n",
    "\n",
    "count_test = 0\n",
    "for i in cities:\n",
    "    city = i  \n",
    "    split = 'test'\n",
    "    test_dataset  = ArgoverseDataset(city = city, split = split)\n",
    "    count_test+= len(test_dataset)\n",
    "print(\"the number of training data:\" + str(count_test))"
   ]
  },
  {
   "cell_type": "code",
   "execution_count": 5,
   "metadata": {},
   "outputs": [],
   "source": [
    "# convert the original training document into trainable batches \n",
    "def get_batches_x(inp, batch_size):\n",
    "    \n",
    "    \n",
    "    num_batches = int(len(inp) / (batch_size))\n",
    "    \n",
    "    X = inp[:num_batches*batch_size]\n",
    "#     Y = np.zeros((len(X), 50))\n",
    "    \n",
    "    X = X[:, :, 0]\n",
    "    \n",
    "    # generate trainable batches\n",
    "    for i in range(0, num_batches*batch_size, batch_size):\n",
    "        Xs = []\n",
    "        Ys = []\n",
    "        for j in range(i, i+batch_size):\n",
    "            temp_x = X[j][:-1]\n",
    "               \n",
    "            temp_y = X[j][1:]\n",
    "            \n",
    "            Xs.append(temp_x)\n",
    "            Ys.append(temp_y)\n",
    "        \n",
    "        Xs = np.array(Xs)\n",
    "        Ys = np.array(Ys)\n",
    "\n",
    "        yield torch.tensor(Xs).float(), torch.tensor(Ys).float()"
   ]
  },
  {
   "cell_type": "code",
   "execution_count": 17,
   "metadata": {},
   "outputs": [],
   "source": [
    "import torch\n",
    "import torch.nn as nn\n",
    "from torch.autograd import Variable\n",
    "import torch.nn.functional as F\n",
    "\n",
    "class RNN_new_1(nn.Module):\n",
    "    def __init__(self, input_size, hidden_size, output_size, n_layers=1):\n",
    "        super(RNN_new_1, self).__init__()\n",
    "        self.input_size = input_size\n",
    "        self.hidden_size = hidden_size\n",
    "        self.output_size = output_size\n",
    "        self.encode1 = nn.Linear(input_size, hidden_size)\n",
    "        # input tensor - (batch, seq, tensor)\n",
    "        self.lstm = nn.LSTM(hidden_size, hidden_size, num_layers=n_layers, batch_first=True)\n",
    "        self.bilstm = nn.LSTM(hidden_size, hidden_size//2, num_layers=n_layers, batch_first=True, bidirectional=True)\n",
    "        \n",
    "        self.encode2 = nn.Linear(input_size, hidden_size)\n",
    "        \n",
    "        self.encode3 = nn.Linear(hidden_size, hidden_size * 2)\n",
    "        \n",
    "        self.encode4 = nn.Linear(hidden_size * 2, hidden_size // 2)\n",
    "        \n",
    "        self.encode5 = nn.Linear(input_size, hidden_size // 2)\n",
    "        \n",
    "        self.encode6 = nn.Linear(hidden_size//2, output_size)\n",
    "        \n",
    "        \n",
    "        self.decoder = nn.Linear(hidden_size, output_size)\n",
    "        \n",
    "        self.softmax = nn.LogSoftmax(dim=1)\n",
    "\n",
    "#         self.encode1 = nn.Embedding(61, (hidden_size-10)//2)\n",
    "#         self.encode2 = nn.Embedding(max_frequency+1, (hidden_size-10)//2)\n",
    "#         self.encode3 = nn.Embedding(5, 10)\n",
    "        \n",
    "\n",
    "    def forward(self, x_input, prev_hidden_and_cell, temperature=1.0):\n",
    "        \n",
    "        encode1 = self.encode1(x_input)\n",
    "\n",
    "        output, (hidden, cell) = self.lstm(encode1.unsqueeze(1), prev_hidden_and_cell)\n",
    "#         print(output.shape)\n",
    "        encode2 = self.encode2(x_input)\n",
    "        bi_output, (hidden, cell) = self.lstm(encode2.unsqueeze(1), prev_hidden_and_cell)\n",
    "#         print(bi_output.shape)\n",
    "        f_output = torch.tanh(self.encode3(output + bi_output))\n",
    "#         print(f_output.shape)\n",
    "        f_output1 = torch.tanh(self.encode4(f_output))\n",
    "#         print(f_output1.shape)\n",
    "        f_output2 = self.encode5(x_input)\n",
    "#         print(f_output2.shape)\n",
    "#         print(f_output1.shape)\n",
    "#         print((f_output1 + f_output2).shape)\n",
    "        \n",
    "        f_output2 = f_output2.reshape(f_output2.shape[0], 1, f_output2.shape[1])\n",
    "#         print(f_output2.shape)\n",
    "#         print((f_output1 + f_output2).shape)\n",
    "#         print(f_output1.shape)\n",
    "        output = self.encode6(f_output1 + f_output2)\n",
    "        output = output.reshape(len(output), 1)\n",
    "#         print(output)\n",
    "#         print(output)\n",
    "#         print(output.shape)\n",
    "#         output = self.decoder(output.reshape(output.shape[0], -1))\n",
    "\n",
    "#         print(output)\n",
    "#         print(output)\n",
    "#         print(output.shape)\n",
    "#         output = self.softmax(output / temperature)\n",
    "#         output = defined_softmax(output.reshape(1, 1, 61), temperature)\n",
    "\n",
    "        return output, (hidden, cell)\n",
    "    \n",
    "    def forward1(self, input_char_idx, input_char_freq, input_char_syllable, prev_hidden_and_cell, temperature=1.0):\n",
    "\n",
    "        encode1 = self.encode1(input_char_idx)\n",
    "        encode2 = self.encode2(input_char_freq)\n",
    "        encode3 = self.encode3(input_char_syllable)\n",
    "        \n",
    "        encode = torch.cat((encode1, encode2, encode3), 1)\n",
    "\n",
    "        output, (hidden, cell) = self.lstm(encode.unsqueeze(1), prev_hidden_and_cell)\n",
    "\n",
    "        output = self.decoder(output.reshape(output.shape[0], -1))\n",
    "\n",
    "        output = self.softmax(output / temperature)\n",
    "#         output = defined_softmax(output, temperature)\n",
    "\n",
    "\n",
    "        return output, (hidden, cell)\n",
    "\n",
    "    def init_state(self, batch_size):\n",
    "        # return the initial hidden state and cell state\n",
    "        return torch.zeros(self.input_size, batch_size, self.hidden_size), torch.zeros(self.input_size, batch_size, self.hidden_size)"
   ]
  },
  {
   "cell_type": "code",
   "execution_count": 8,
   "metadata": {},
   "outputs": [],
   "source": [
    "def train_model(inp, n_epochs, hidden_size, batch_size, seq_size, lr, temperature):\n",
    "    \n",
    "    # (input_size/feature dim, num of characters, hidden_size, output_size, n_layers=1)\n",
    "    model = RNN_new_1(1, hidden_size, 1, 1)\n",
    "    model.train()\n",
    "    optimizer = torch.optim.Adam(model.parameters(), lr=lr)\n",
    "    criterion = nn.MSELoss()\n",
    "    avg_loss_over_time = []\n",
    "    for epoch in range(n_epochs):\n",
    "        batches = get_batches_x(inp, batch_size)\n",
    "\n",
    "        hidden, cell = model.init_state(batch_size)\n",
    "\n",
    "        i = 0\n",
    "        print(\"new epoch starts, currently at \" + str(epoch) + \" epoch\")\n",
    "        \n",
    "        loss_avg = 0\n",
    "        \n",
    "        for X, Y in batches:\n",
    "            i += 1\n",
    "\n",
    "            # Reset all gradients\n",
    "            optimizer.zero_grad()\n",
    "            \n",
    "            loss = 0\n",
    "                         \n",
    "            for i in range(seq_size-1):\n",
    "                temp_x = X[:, i]\n",
    "                temp_y = Y[:, i]\n",
    "                output, (hidden, cell) = model.forward(temp_x.reshape(batch_size, 1), (hidden, cell), temperature)\n",
    "#                 print(output)\n",
    "#                 print(output.shape)\n",
    "                loss += criterion(output, temp_y.reshape(batch_size, 1))\n",
    "            \n",
    "            hidden = hidden.detach()\n",
    "            cell = cell.detach()\n",
    "            \n",
    "            loss.backward(retain_graph=True)\n",
    "            optimizer.step()\n",
    "            loss_avg += loss.item() / seq_size\n",
    "            \n",
    "        avg_loss_over_time.append(math.sqrt(loss_avg / i))   \n",
    "        print(\"avg loss at \" + str(i) + \"th iteration - \" + str(math.sqrt(loss_avg / i)))\n",
    "        print(\"\\n\")  \n",
    "    \n",
    "    \n",
    "    plt.plot(avg_loss_over_time)\n",
    "    plt.xlabel(\"epoch num\")\n",
    "    plt.ylabel(\"avg_loss\")\n",
    "    return model"
   ]
  },
  {
   "cell_type": "code",
   "execution_count": 19,
   "metadata": {},
   "outputs": [],
   "source": [
    "import time\n",
    "import math"
   ]
  },
  {
   "cell_type": "code",
   "execution_count": 13,
   "metadata": {},
   "outputs": [],
   "source": [
    "p_i, p_o = get_city_trajectories(city=\"palo-alto\", split=\"train\", normalized=True)"
   ]
  },
  {
   "cell_type": "code",
   "execution_count": 14,
   "metadata": {
    "scrolled": false
   },
   "outputs": [],
   "source": [
    "train_combined = np.concatenate([p_i, p_o], axis=1)"
   ]
  },
  {
   "cell_type": "code",
   "execution_count": 15,
   "metadata": {},
   "outputs": [
    {
     "data": {
      "text/plain": [
       "(11993, 110, 2)"
      ]
     },
     "execution_count": 15,
     "metadata": {},
     "output_type": "execute_result"
    }
   ],
   "source": [
    "train_combined.shape"
   ]
  },
  {
   "cell_type": "code",
   "execution_count": null,
   "metadata": {},
   "outputs": [],
   "source": [
    "temp_mean, temp_std = np.mean(train_combined[:, :, 0].reshape(-1)), np.std(train_combined[:, :, 0].reshape(-1))\n",
    "normalized = (train_combined[:, :, 0].reshape(-1) - temp_mean) / temp_std"
   ]
  },
  {
   "cell_type": "code",
   "execution_count": 20,
   "metadata": {},
   "outputs": [
    {
     "name": "stdout",
     "output_type": "stream",
     "text": [
      "Starts training process\n",
      "new epoch starts, currently at 0 epoch\n",
      "avg loss at 108th iteration - 269.03168453555486\n",
      "\n",
      "\n",
      "new epoch starts, currently at 1 epoch\n",
      "avg loss at 108th iteration - 55.332928648415056\n",
      "\n",
      "\n",
      "new epoch starts, currently at 2 epoch\n",
      "avg loss at 108th iteration - 16.369735432711952\n",
      "\n",
      "\n",
      "new epoch starts, currently at 3 epoch\n",
      "avg loss at 108th iteration - 5.7912167561985095\n",
      "\n",
      "\n",
      "new epoch starts, currently at 4 epoch\n",
      "avg loss at 108th iteration - 1.7501580651822426\n",
      "\n",
      "\n",
      "new epoch starts, currently at 5 epoch\n",
      "avg loss at 108th iteration - 0.668172156090779\n",
      "\n",
      "\n",
      "new epoch starts, currently at 6 epoch\n",
      "avg loss at 108th iteration - 0.42926282995899023\n",
      "\n",
      "\n",
      "new epoch starts, currently at 7 epoch\n",
      "avg loss at 108th iteration - 0.40180785835295446\n",
      "\n",
      "\n",
      "new epoch starts, currently at 8 epoch\n",
      "avg loss at 108th iteration - 0.3930175955172718\n",
      "\n",
      "\n",
      "new epoch starts, currently at 9 epoch\n",
      "avg loss at 108th iteration - 0.38746986126940586\n",
      "\n",
      "\n",
      "Ends training process, total time - 683.1844065189362\n"
     ]
    },
    {
     "data": {
      "image/png": "[encoded data removed]",
      "text/plain": [
       "<Figure size 432x288 with 1 Axes>"
      ]
     },
     "metadata": {
      "needs_background": "light"
     },
     "output_type": "display_data"
    }
   ],
   "source": [
    "# (inp, n_epochs, hidden_size, batch_size, seq_size, lr, temperature)\n",
    "start = time.time()\n",
    "print(\"Starts training process\")\n",
    "model_1 = train_model(train_combined, 10, 64, 500, 110, 0.05, 1.5)\n",
    "end = time.time()\n",
    "print(\"Ends training process, total time - \" + str(end - start))"
   ]
  },
  {
   "cell_type": "code",
   "execution_count": null,
   "metadata": {},
   "outputs": [],
   "source": []
  },
  {
   "cell_type": "code",
   "execution_count": 21,
   "metadata": {},
   "outputs": [],
   "source": [
    "def predict(model, inp, predict_length):\n",
    "\n",
    "    hidden, cell = model.init_state(1)\n",
    "    \n",
    "    \n",
    "    input_batch = get_batches_x(inp.reshape(1,len(inp),2), 1)\n",
    "\n",
    "    X, _ = next(input_batch)\n",
    "    \n",
    "    # build upon our hidden and cell state based on the first seq_size-1 positions\n",
    "    for i in range(len(inp)-1):\n",
    "        temp_x = X[:, i]\n",
    "#         print(temp_x)\n",
    "        output, (hidden, cell) = model.forward(temp_x.reshape(1, 1), (hidden, cell), 1)\n",
    "#         print(output)\n",
    "\n",
    "    prev = inp[-1][0]\n",
    "#     print(prev)\n",
    "    predict = []\n",
    "    # make the prediction character by character\n",
    "    for _ in range(predict_length):\n",
    "        \n",
    "        temp_x = torch.tensor([prev]).float()\n",
    "\n",
    "        output, (hidden, cell) = model.forward(temp_x.reshape(1,1), (hidden, cell), 1)\n",
    "\n",
    "#         output = defined_softmax(output.reshape(1, 1, 61), temperature)\n",
    "\n",
    "        prev = output[0]\n",
    "\n",
    "        predict.append(prev)\n",
    "\n",
    "\n",
    "    return predict"
   ]
  },
  {
   "cell_type": "code",
   "execution_count": null,
   "metadata": {},
   "outputs": [],
   "source": []
  },
  {
   "cell_type": "code",
   "execution_count": null,
   "metadata": {},
   "outputs": [],
   "source": []
  },
  {
   "cell_type": "code",
   "execution_count": null,
   "metadata": {},
   "outputs": [],
   "source": []
  },
  {
   "cell_type": "code",
   "execution_count": null,
   "metadata": {},
   "outputs": [],
   "source": []
  },
  {
   "cell_type": "code",
   "execution_count": null,
   "metadata": {},
   "outputs": [],
   "source": []
  },
  {
   "cell_type": "code",
   "execution_count": null,
   "metadata": {},
   "outputs": [],
   "source": []
  }
 ],
 "metadata": {
  "kernelspec": {
   "display_name": "Python 3",
   "language": "python",
   "name": "python3"
  },
  "language_info": {
   "codemirror_mode": {
    "name": "ipython",
    "version": 3
   },
   "file_extension": ".py",
   "mimetype": "text/x-python",
   "name": "python",
   "nbconvert_exporter": "python",
   "pygments_lexer": "ipython3",
   "version": "3.8.5"
  }
 },
 "nbformat": 4,
 "nbformat_minor": 5
}
